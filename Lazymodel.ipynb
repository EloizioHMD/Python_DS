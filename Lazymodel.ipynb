{
 "cells": [
  {
   "cell_type": "code",
   "execution_count": 1,
   "id": "67f87c72",
   "metadata": {},
   "outputs": [],
   "source": [
    "# importação das bibliotecas\n",
    "import pandas as pd\n",
    "import numpy as np\n",
    "\n",
    "try:\n",
    "  import lazypredict\n",
    "except:\n",
    "  !pip install lazypredict\n",
    "  import lazypredict\n",
    "\n",
    "from lazypredict.Supervised import LazyClassifier\n",
    "from sklearn.model_selection import train_test_split"
   ]
  },
  {
   "cell_type": "code",
   "execution_count": 2,
   "id": "9aa1699b",
   "metadata": {},
   "outputs": [],
   "source": [
    "df = pd.read_csv('C:/Users/eloiz/Downloads/banco_recife.csv')"
   ]
  },
  {
   "cell_type": "code",
   "execution_count": 3,
   "id": "6758a44a",
   "metadata": {
    "scrolled": true
   },
   "outputs": [
    {
     "data": {
      "text/html": [
       "<div>\n",
       "<style scoped>\n",
       "    .dataframe tbody tr th:only-of-type {\n",
       "        vertical-align: middle;\n",
       "    }\n",
       "\n",
       "    .dataframe tbody tr th {\n",
       "        vertical-align: top;\n",
       "    }\n",
       "\n",
       "    .dataframe thead th {\n",
       "        text-align: right;\n",
       "    }\n",
       "</style>\n",
       "<table border=\"1\" class=\"dataframe\">\n",
       "  <thead>\n",
       "    <tr style=\"text-align: right;\">\n",
       "      <th></th>\n",
       "      <th>Unnamed: 0</th>\n",
       "      <th>endereco</th>\n",
       "      <th>bairro</th>\n",
       "      <th>area_m2</th>\n",
       "      <th>quartos</th>\n",
       "      <th>banheiros</th>\n",
       "      <th>vagas</th>\n",
       "      <th>valor</th>\n",
       "      <th>condominio</th>\n",
       "      <th>valor_m2</th>\n",
       "      <th>bairrocod</th>\n",
       "    </tr>\n",
       "  </thead>\n",
       "  <tbody>\n",
       "    <tr>\n",
       "      <th>0</th>\n",
       "      <td>0</td>\n",
       "      <td>Rua General Polidoro</td>\n",
       "      <td>Várzea</td>\n",
       "      <td>55</td>\n",
       "      <td>2</td>\n",
       "      <td>2</td>\n",
       "      <td>1</td>\n",
       "      <td>330000</td>\n",
       "      <td>350</td>\n",
       "      <td>6000.00</td>\n",
       "      <td>4</td>\n",
       "    </tr>\n",
       "    <tr>\n",
       "      <th>1</th>\n",
       "      <td>1</td>\n",
       "      <td>Rua Setúbal</td>\n",
       "      <td>Boa Viagem</td>\n",
       "      <td>86</td>\n",
       "      <td>3</td>\n",
       "      <td>3</td>\n",
       "      <td>2</td>\n",
       "      <td>780000</td>\n",
       "      <td>740</td>\n",
       "      <td>9069.77</td>\n",
       "      <td>6</td>\n",
       "    </tr>\n",
       "    <tr>\n",
       "      <th>2</th>\n",
       "      <td>2</td>\n",
       "      <td>Rua Quarenta e Oito</td>\n",
       "      <td>Aflitos</td>\n",
       "      <td>69</td>\n",
       "      <td>3</td>\n",
       "      <td>3</td>\n",
       "      <td>1</td>\n",
       "      <td>378000</td>\n",
       "      <td>690</td>\n",
       "      <td>5478.26</td>\n",
       "      <td>3</td>\n",
       "    </tr>\n",
       "    <tr>\n",
       "      <th>3</th>\n",
       "      <td>3</td>\n",
       "      <td>Rua Esmeraldino Bandeira</td>\n",
       "      <td>Graças</td>\n",
       "      <td>54</td>\n",
       "      <td>1</td>\n",
       "      <td>1</td>\n",
       "      <td>1</td>\n",
       "      <td>240000</td>\n",
       "      <td>590</td>\n",
       "      <td>4444.44</td>\n",
       "      <td>3</td>\n",
       "    </tr>\n",
       "    <tr>\n",
       "      <th>4</th>\n",
       "      <td>4</td>\n",
       "      <td>Rua Edson Álvares</td>\n",
       "      <td>Casa Forte</td>\n",
       "      <td>94</td>\n",
       "      <td>2</td>\n",
       "      <td>3</td>\n",
       "      <td>2</td>\n",
       "      <td>535000</td>\n",
       "      <td>850</td>\n",
       "      <td>5691.49</td>\n",
       "      <td>3</td>\n",
       "    </tr>\n",
       "  </tbody>\n",
       "</table>\n",
       "</div>"
      ],
      "text/plain": [
       "   Unnamed: 0                  endereco      bairro  area_m2  quartos  \\\n",
       "0           0      Rua General Polidoro      Várzea       55        2   \n",
       "1           1               Rua Setúbal  Boa Viagem       86        3   \n",
       "2           2       Rua Quarenta e Oito     Aflitos       69        3   \n",
       "3           3  Rua Esmeraldino Bandeira      Graças       54        1   \n",
       "4           4         Rua Edson Álvares  Casa Forte       94        2   \n",
       "\n",
       "   banheiros  vagas   valor condominio  valor_m2  bairrocod  \n",
       "0          2      1  330000        350   6000.00          4  \n",
       "1          3      2  780000        740   9069.77          6  \n",
       "2          3      1  378000        690   5478.26          3  \n",
       "3          1      1  240000        590   4444.44          3  \n",
       "4          3      2  535000        850   5691.49          3  "
      ]
     },
     "execution_count": 3,
     "metadata": {},
     "output_type": "execute_result"
    }
   ],
   "source": [
    "df.head()"
   ]
  },
  {
   "cell_type": "code",
   "execution_count": 4,
   "id": "c020ec94",
   "metadata": {},
   "outputs": [],
   "source": [
    "X = df[['area_m2','quartos','banheiros','vagas','valor_m2','bairrocod']]\n",
    "y = df[['valor']]"
   ]
  },
  {
   "cell_type": "code",
   "execution_count": 5,
   "id": "84242965",
   "metadata": {},
   "outputs": [],
   "source": [
    "Seed = 42\n",
    "X_train, X_test, y_train, y_test = train_test_split(X, y, test_size=0.30, random_state=Seed)"
   ]
  },
  {
   "cell_type": "code",
   "execution_count": 6,
   "id": "ac0856a5",
   "metadata": {},
   "outputs": [
    {
     "data": {
      "text/plain": [
       "((11770, 6), (11770, 1), (27463, 6), (27463, 1))"
      ]
     },
     "execution_count": 6,
     "metadata": {},
     "output_type": "execute_result"
    }
   ],
   "source": [
    "X_test.shape, y_test.shape, X_train.shape, y_train.shape"
   ]
  },
  {
   "cell_type": "code",
   "execution_count": null,
   "id": "2f6991a5",
   "metadata": {},
   "outputs": [
    {
     "name": "stderr",
     "output_type": "stream",
     "text": [
      " 41%|████▏     | 12/29 [01:25<04:02, 14.24s/it]"
     ]
    }
   ],
   "source": [
    "# Classificação pelo Lazy\n",
    "clf = LazyClassifier(verbose=0,ignore_warnings=True)\n",
    "models, predictions = clf.fit(X_train, X_test, y_train, y_test)\n",
    "models"
   ]
  }
 ],
 "metadata": {
  "kernelspec": {
   "display_name": "Python 3 (ipykernel)",
   "language": "python",
   "name": "python3"
  },
  "language_info": {
   "codemirror_mode": {
    "name": "ipython",
    "version": 3
   },
   "file_extension": ".py",
   "mimetype": "text/x-python",
   "name": "python",
   "nbconvert_exporter": "python",
   "pygments_lexer": "ipython3",
   "version": "3.9.12"
  }
 },
 "nbformat": 4,
 "nbformat_minor": 5
}
