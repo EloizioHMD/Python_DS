{
  "nbformat": 4,
  "nbformat_minor": 0,
  "metadata": {
    "colab": {
      "name": "Regressão_Linear (GoogleFlu).ipynb",
      "provenance": [],
      "toc_visible": true,
      "authorship_tag": "ABX9TyN4rzn3QQcjy+XZjQqT9ZOw",
      "include_colab_link": true
    },
    "kernelspec": {
      "name": "python3",
      "display_name": "Python 3"
    },
    "language_info": {
      "name": "python"
    }
  },
  "cells": [
    {
      "cell_type": "markdown",
      "metadata": {
        "id": "view-in-github",
        "colab_type": "text"
      },
      "source": [
        "<a href=\"https://colab.research.google.com/github/EloizioHMD/Python_DS/blob/main/Regress%C3%A3o_Linear_(GoogleFlu).ipynb\" target=\"_parent\"><img src=\"https://colab.research.google.com/assets/colab-badge.svg\" alt=\"Open In Colab\"/></a>"
      ]
    },
    {
      "cell_type": "markdown",
      "source": [
        "#  Regressão Linear - Google Flu\n",
        "![](https://www.virology.ws/wp-content/uploads/2010/05/googleflu.png)\n",
        "\n",
        "Notebook por [Eloízio Dantas](https://www.linkedin.com/in/eloiziohmdantas/).\n",
        "Atividade proposta pelo professor [Abner Rodrigues](https://www.linkedin.com/in/abner-rodrigues-9b511018/) na [AWARI](https://www.linkedin.com/school/awari/)."
      ],
      "metadata": {
        "id": "TTD4Hqe5q3Ln"
      }
    },
    {
      "cell_type": "markdown",
      "source": [
        "A epidemia de gripe é um grande problema de saúde pública que causa um grande número de hospitalizações e mortes. De acordo com o National Vital Statistics Reports, publicado em outubro de 2012, influenza é a oitava causa de mortes em 2011 nos Estados Unidos. Para o mundo todo, a cada ano, morrem de 250000 à 500000 pessoas por ano de influenza.\n",
        "\n",
        "O Centro de Controle de Doenças (CDC) e o European Influenza Surveillance Scheme (EISS) detectam influenza através de dados clínicos, entretanto essas informações são publicadas com atraso de 1-2 semanas.\n",
        "\n",
        "O Google Flu Trends é um projeto que foi criado para testar se é possível identificar a quantidade de casos de gripe baseado na quantidade de buscas sobre o assunto, já que esse dado pode ser recuperado imediatamente.\n",
        "\n",
        "Nosso objetivo é estimar o número de doenças similares a influenza (influenza-like illness ILI) usando a informação das buscas do Google.\n",
        "\n",
        "Uma das fontes de dados, o Google Search Queries - Google Trends fornece a contagem semanal de buscas dos usuários do google ao redor do mundo. Para cada local, a contagem é normalizada dividindo a contadem de cada busca na semana pelo número total de buscas. Dessa forma os valores estão entre 0 e 1.\n",
        "\n",
        "O arquivo csv [FluTrain](https://raw.githubusercontent.com/abnr/ml-data/main/FluTrain.csv) agrega os dois dados de Janeiro de 2004 até Dezembro de 2011, com as colunas:\n",
        "\n",
        "> \"Week\" - A faixa de datas a qual a observação foi feita, no formato ano/mes/dia.<p>\n",
        "> \"ILI\" - A porcentagem de casos de ILI reportados na semana.<p>\n",
        "> \"Queries\" - A fração das buscas de ILI naquela semana."
      ],
      "metadata": {
        "id": "H7j_CRttpZW4"
      }
    },
    {
      "cell_type": "code",
      "source": [
        "# Carregar bibliotecas para o exercício\n",
        "import pandas as pd\n",
        "import numpy as np\n",
        "import matplotlib.pyplot as plt\n",
        "import seaborn as sns\n",
        "import statsmodels.api as sm\n",
        "from scipy import stats\n",
        "import statsmodels.tsa.api as smt"
      ],
      "metadata": {
        "id": "gMooLYumtATZ"
      },
      "execution_count": 13,
      "outputs": []
    },
    {
      "cell_type": "code",
      "source": [
        "# Carregar o dataset\n",
        "df = pd.read_csv('https://raw.githubusercontent.com/abnr/ml-data/main/FluTrain.csv')\n",
        "df.head(5)"
      ],
      "metadata": {
        "colab": {
          "base_uri": "https://localhost:8080/",
          "height": 206
        },
        "id": "juCrpYy9s4HK",
        "outputId": "b0b67dd0-af98-4576-fb5b-7f0505d7b0b3"
      },
      "execution_count": 2,
      "outputs": [
        {
          "output_type": "execute_result",
          "data": {
            "text/plain": [
              "                      Week       ILI   Queries\n",
              "0  2004-01-04 - 2004-01-10  2.418331  0.237716\n",
              "1  2004-01-11 - 2004-01-17  1.809056  0.220452\n",
              "2  2004-01-18 - 2004-01-24  1.712024  0.225764\n",
              "3  2004-01-25 - 2004-01-31  1.542495  0.237716\n",
              "4  2004-02-01 - 2004-02-07  1.437868  0.224436"
            ],
            "text/html": [
              "\n",
              "  <div id=\"df-3c34b85b-caed-4564-8093-f85ee9d6e417\">\n",
              "    <div class=\"colab-df-container\">\n",
              "      <div>\n",
              "<style scoped>\n",
              "    .dataframe tbody tr th:only-of-type {\n",
              "        vertical-align: middle;\n",
              "    }\n",
              "\n",
              "    .dataframe tbody tr th {\n",
              "        vertical-align: top;\n",
              "    }\n",
              "\n",
              "    .dataframe thead th {\n",
              "        text-align: right;\n",
              "    }\n",
              "</style>\n",
              "<table border=\"1\" class=\"dataframe\">\n",
              "  <thead>\n",
              "    <tr style=\"text-align: right;\">\n",
              "      <th></th>\n",
              "      <th>Week</th>\n",
              "      <th>ILI</th>\n",
              "      <th>Queries</th>\n",
              "    </tr>\n",
              "  </thead>\n",
              "  <tbody>\n",
              "    <tr>\n",
              "      <th>0</th>\n",
              "      <td>2004-01-04 - 2004-01-10</td>\n",
              "      <td>2.418331</td>\n",
              "      <td>0.237716</td>\n",
              "    </tr>\n",
              "    <tr>\n",
              "      <th>1</th>\n",
              "      <td>2004-01-11 - 2004-01-17</td>\n",
              "      <td>1.809056</td>\n",
              "      <td>0.220452</td>\n",
              "    </tr>\n",
              "    <tr>\n",
              "      <th>2</th>\n",
              "      <td>2004-01-18 - 2004-01-24</td>\n",
              "      <td>1.712024</td>\n",
              "      <td>0.225764</td>\n",
              "    </tr>\n",
              "    <tr>\n",
              "      <th>3</th>\n",
              "      <td>2004-01-25 - 2004-01-31</td>\n",
              "      <td>1.542495</td>\n",
              "      <td>0.237716</td>\n",
              "    </tr>\n",
              "    <tr>\n",
              "      <th>4</th>\n",
              "      <td>2004-02-01 - 2004-02-07</td>\n",
              "      <td>1.437868</td>\n",
              "      <td>0.224436</td>\n",
              "    </tr>\n",
              "  </tbody>\n",
              "</table>\n",
              "</div>\n",
              "      <button class=\"colab-df-convert\" onclick=\"convertToInteractive('df-3c34b85b-caed-4564-8093-f85ee9d6e417')\"\n",
              "              title=\"Convert this dataframe to an interactive table.\"\n",
              "              style=\"display:none;\">\n",
              "        \n",
              "  <svg xmlns=\"http://www.w3.org/2000/svg\" height=\"24px\"viewBox=\"0 0 24 24\"\n",
              "       width=\"24px\">\n",
              "    <path d=\"M0 0h24v24H0V0z\" fill=\"none\"/>\n",
              "    <path d=\"M18.56 5.44l.94 2.06.94-2.06 2.06-.94-2.06-.94-.94-2.06-.94 2.06-2.06.94zm-11 1L8.5 8.5l.94-2.06 2.06-.94-2.06-.94L8.5 2.5l-.94 2.06-2.06.94zm10 10l.94 2.06.94-2.06 2.06-.94-2.06-.94-.94-2.06-.94 2.06-2.06.94z\"/><path d=\"M17.41 7.96l-1.37-1.37c-.4-.4-.92-.59-1.43-.59-.52 0-1.04.2-1.43.59L10.3 9.45l-7.72 7.72c-.78.78-.78 2.05 0 2.83L4 21.41c.39.39.9.59 1.41.59.51 0 1.02-.2 1.41-.59l7.78-7.78 2.81-2.81c.8-.78.8-2.07 0-2.86zM5.41 20L4 18.59l7.72-7.72 1.47 1.35L5.41 20z\"/>\n",
              "  </svg>\n",
              "      </button>\n",
              "      \n",
              "  <style>\n",
              "    .colab-df-container {\n",
              "      display:flex;\n",
              "      flex-wrap:wrap;\n",
              "      gap: 12px;\n",
              "    }\n",
              "\n",
              "    .colab-df-convert {\n",
              "      background-color: #E8F0FE;\n",
              "      border: none;\n",
              "      border-radius: 50%;\n",
              "      cursor: pointer;\n",
              "      display: none;\n",
              "      fill: #1967D2;\n",
              "      height: 32px;\n",
              "      padding: 0 0 0 0;\n",
              "      width: 32px;\n",
              "    }\n",
              "\n",
              "    .colab-df-convert:hover {\n",
              "      background-color: #E2EBFA;\n",
              "      box-shadow: 0px 1px 2px rgba(60, 64, 67, 0.3), 0px 1px 3px 1px rgba(60, 64, 67, 0.15);\n",
              "      fill: #174EA6;\n",
              "    }\n",
              "\n",
              "    [theme=dark] .colab-df-convert {\n",
              "      background-color: #3B4455;\n",
              "      fill: #D2E3FC;\n",
              "    }\n",
              "\n",
              "    [theme=dark] .colab-df-convert:hover {\n",
              "      background-color: #434B5C;\n",
              "      box-shadow: 0px 1px 3px 1px rgba(0, 0, 0, 0.15);\n",
              "      filter: drop-shadow(0px 1px 2px rgba(0, 0, 0, 0.3));\n",
              "      fill: #FFFFFF;\n",
              "    }\n",
              "  </style>\n",
              "\n",
              "      <script>\n",
              "        const buttonEl =\n",
              "          document.querySelector('#df-3c34b85b-caed-4564-8093-f85ee9d6e417 button.colab-df-convert');\n",
              "        buttonEl.style.display =\n",
              "          google.colab.kernel.accessAllowed ? 'block' : 'none';\n",
              "\n",
              "        async function convertToInteractive(key) {\n",
              "          const element = document.querySelector('#df-3c34b85b-caed-4564-8093-f85ee9d6e417');\n",
              "          const dataTable =\n",
              "            await google.colab.kernel.invokeFunction('convertToInteractive',\n",
              "                                                     [key], {});\n",
              "          if (!dataTable) return;\n",
              "\n",
              "          const docLinkHtml = 'Like what you see? Visit the ' +\n",
              "            '<a target=\"_blank\" href=https://colab.research.google.com/notebooks/data_table.ipynb>data table notebook</a>'\n",
              "            + ' to learn more about interactive tables.';\n",
              "          element.innerHTML = '';\n",
              "          dataTable['output_type'] = 'display_data';\n",
              "          await google.colab.output.renderOutput(dataTable, element);\n",
              "          const docLink = document.createElement('div');\n",
              "          docLink.innerHTML = docLinkHtml;\n",
              "          element.appendChild(docLink);\n",
              "        }\n",
              "      </script>\n",
              "    </div>\n",
              "  </div>\n",
              "  "
            ]
          },
          "metadata": {},
          "execution_count": 2
        }
      ]
    },
    {
      "cell_type": "markdown",
      "source": [
        "Apesar de ser bem interpretativo, rápido de estimar e fácil de usar, a regressão linear assume vários requisitos que precisam ser avaliados. Caso algum desses pré-requisitos não sejam cumpridos, as consequências podem ser desde problema de interpretação dos coeficientes até na qualidade do ajuste.\n",
        "\n",
        "Em resumo, são requisitos necessários:\n",
        "\n",
        "1. Linearidade;\n",
        "2. Média dos resíduos igual a zero;\n",
        "3. Sem multicolinariedade (forte);\n",
        "4. Homocedasticidade dos resíduos;\n",
        "5. Resíduos não podem ser autocorrelacionados;\n",
        "6. Resíduos e variáveis não correlacionados;\n",
        "7. Normalidade dos resíduos."
      ],
      "metadata": {
        "id": "k58n4tz2ttSS"
      }
    },
    {
      "cell_type": "markdown",
      "source": [
        "### **Problema 1**\n",
        "\n",
        "Assim, nesse contexto, verifique se ILI segue uma distribuição normal. Caso não seja normal, utilize alguma estratégia para transformação desses dados."
      ],
      "metadata": {
        "id": "62rqydMbutAy"
      }
    },
    {
      "cell_type": "code",
      "source": [
        "# Explorando os dados com DataViz\n",
        "# Plot de dois eixo do ILI e Queries com Matplotlib\n",
        "fig, ax1 = plt.subplots(figsize=(12,3))\n",
        "\n",
        "ax2 = ax1.twinx()\n",
        "\n",
        "ax1.plot( df['ILI'], label='ILI' )\n",
        "ax1.set_ylabel('ILI')\n",
        "ax2.plot( df['Queries'], color='r', label='Queries' )\n",
        "ax2.set_ylabel('Queries')"
      ],
      "metadata": {
        "colab": {
          "base_uri": "https://localhost:8080/",
          "height": 228
        },
        "id": "kHR9RJepuoyv",
        "outputId": "f827235f-07ed-4547-b8a2-86fbaac32951"
      },
      "execution_count": 8,
      "outputs": [
        {
          "output_type": "execute_result",
          "data": {
            "text/plain": [
              "Text(0, 0.5, 'Queries')"
            ]
          },
          "metadata": {},
          "execution_count": 8
        },
        {
          "output_type": "display_data",
          "data": {
            "text/plain": [
              "<Figure size 864x216 with 2 Axes>"
            ],
            "image/png": "[encoded data removed]"
          },
          "metadata": {
            "needs_background": "light"
          }
        }
      ]
    },
    {
      "cell_type": "code",
      "source": [
        "# Histogram do \"ILI\"\n",
        "plt.hist(df['ILI']);"
      ],
      "metadata": {
        "colab": {
          "base_uri": "https://localhost:8080/",
          "height": 265
        },
        "id": "zWgdt2X1wd1C",
        "outputId": "7d924eb8-0d90-4f41-98a5-ef1bc660b06a"
      },
      "execution_count": 9,
      "outputs": [
        {
          "output_type": "display_data",
          "data": {
            "text/plain": [
              "<Figure size 432x288 with 1 Axes>"
            ],
            "image/png": "[encoded data removed]"
          },
          "metadata": {
            "needs_background": "light"
          }
        }
      ]
    },
    {
      "cell_type": "markdown",
      "source": [
        "Os dados não seguem um distribuição normal, assim vamos usar uma função dos Scipy a [transformação de box-cox](https://docs.scipy.org/doc/scipy/reference/generated/scipy.stats.boxcox.html).\n",
        "\n",
        "O `boxcox` requer que os dados de entrada sejam positivos. Às vezes, uma transformação Box-Cox fornece um parâmetro de deslocamento para conseguir isso; `boxcox` não. Esse parâmetro de deslocamento é equivalente a adicionar uma constante positiva a x antes de chamar `boxcox`."
      ],
      "metadata": {
        "id": "bEsivJ8NwotM"
      }
    },
    {
      "cell_type": "code",
      "source": [
        "# Transformada de Box-Cox pelo Scipy\n",
        "ili_transformed, l = stats.boxcox( df['ILI'])"
      ],
      "metadata": {
        "id": "a8fKhi9s08TM"
      },
      "execution_count": 27,
      "outputs": []
    },
    {
      "cell_type": "code",
      "source": [
        "plt.hist(ili_transformed);"
      ],
      "metadata": {
        "colab": {
          "base_uri": "https://localhost:8080/",
          "height": 265
        },
        "id": "GRzytVUL19Zv",
        "outputId": "a4f76b00-356c-4dd8-d2ee-f8ae2bf87df9"
      },
      "execution_count": 28,
      "outputs": [
        {
          "output_type": "display_data",
          "data": {
            "text/plain": [
              "<Figure size 432x288 with 1 Axes>"
            ],
            "image/png": "[encoded data removed]"
          },
          "metadata": {
            "needs_background": "light"
          }
        }
      ]
    },
    {
      "cell_type": "markdown",
      "source": [
        "### **Problema 2**\n",
        "Ajuste um modelo de regressão linear e calcule o  $R^2$."
      ],
      "metadata": {
        "id": "gwUZZny32Mrw"
      }
    },
    {
      "cell_type": "code",
      "source": [
        "x_train = sm.add_constant( df[['Queries']] ) # Criando o dataset das variáveis exógenas "
      ],
      "metadata": {
        "colab": {
          "base_uri": "https://localhost:8080/"
        },
        "id": "b_f9JGbb2We7",
        "outputId": "00a00ced-cd69-4daf-f7a9-75d8e366f77e"
      },
      "execution_count": 29,
      "outputs": [
        {
          "output_type": "stream",
          "name": "stderr",
          "text": [
            "/usr/local/lib/python3.7/dist-packages/statsmodels/tsa/tsatools.py:117: FutureWarning: In a future version of pandas all arguments of concat except for the argument 'objs' will be keyword-only\n",
            "  x = pd.concat(x[::order], 1)\n"
          ]
        }
      ]
    },
    {
      "cell_type": "code",
      "source": [
        "# Regressão Linear pelo Statsmodels\n",
        "model_flu = sm.OLS(ili_transformed, x_train)\n",
        "results_flu =  model_flu.fit()\n",
        "results_flu.summary()"
      ],
      "metadata": {
        "colab": {
          "base_uri": "https://localhost:8080/",
          "height": 452
        },
        "id": "PhUQOZmy31aa",
        "outputId": "0253ceda-b2b4-4b55-cc5b-a539b819b4fd"
      },
      "execution_count": 30,
      "outputs": [
        {
          "output_type": "execute_result",
          "data": {
            "text/plain": [
              "<class 'statsmodels.iolib.summary.Summary'>\n",
              "\"\"\"\n",
              "                            OLS Regression Results                            \n",
              "==============================================================================\n",
              "Dep. Variable:                      y   R-squared:                       0.687\n",
              "Model:                            OLS   Adj. R-squared:                  0.686\n",
              "Method:                 Least Squares   F-statistic:                     909.1\n",
              "Date:                Thu, 16 Jun 2022   Prob (F-statistic):          1.32e-106\n",
              "Time:                        19:11:45   Log-Likelihood:                -1.9648\n",
              "No. Observations:                 417   AIC:                             7.930\n",
              "Df Residuals:                     415   BIC:                             16.00\n",
              "Df Model:                           1                                         \n",
              "Covariance Type:            nonrobust                                         \n",
              "==============================================================================\n",
              "                 coef    std err          t      P>|t|      [0.025      0.975]\n",
              "------------------------------------------------------------------------------\n",
              "const         -0.4052      0.025    -16.379      0.000      -0.454      -0.357\n",
              "Queries        2.2845      0.076     30.151      0.000       2.136       2.433\n",
              "==============================================================================\n",
              "Omnibus:                        0.700   Durbin-Watson:                   0.296\n",
              "Prob(Omnibus):                  0.705   Jarque-Bera (JB):                0.788\n",
              "Skew:                           0.018   Prob(JB):                        0.675\n",
              "Kurtosis:                       2.790   Cond. No.                         6.88\n",
              "==============================================================================\n",
              "\n",
              "Warnings:\n",
              "[1] Standard Errors assume that the covariance matrix of the errors is correctly specified.\n",
              "\"\"\""
            ],
            "text/html": [
              "<table class=\"simpletable\">\n",
              "<caption>OLS Regression Results</caption>\n",
              "<tr>\n",
              "  <th>Dep. Variable:</th>            <td>y</td>        <th>  R-squared:         </th> <td>   0.687</td> \n",
              "</tr>\n",
              "<tr>\n",
              "  <th>Model:</th>                   <td>OLS</td>       <th>  Adj. R-squared:    </th> <td>   0.686</td> \n",
              "</tr>\n",
              "<tr>\n",
              "  <th>Method:</th>             <td>Least Squares</td>  <th>  F-statistic:       </th> <td>   909.1</td> \n",
              "</tr>\n",
              "<tr>\n",
              "  <th>Date:</th>             <td>Thu, 16 Jun 2022</td> <th>  Prob (F-statistic):</th> <td>1.32e-106</td>\n",
              "</tr>\n",
              "<tr>\n",
              "  <th>Time:</th>                 <td>19:11:45</td>     <th>  Log-Likelihood:    </th> <td> -1.9648</td> \n",
              "</tr>\n",
              "<tr>\n",
              "  <th>No. Observations:</th>      <td>   417</td>      <th>  AIC:               </th> <td>   7.930</td> \n",
              "</tr>\n",
              "<tr>\n",
              "  <th>Df Residuals:</th>          <td>   415</td>      <th>  BIC:               </th> <td>   16.00</td> \n",
              "</tr>\n",
              "<tr>\n",
              "  <th>Df Model:</th>              <td>     1</td>      <th>                     </th>     <td> </td>    \n",
              "</tr>\n",
              "<tr>\n",
              "  <th>Covariance Type:</th>      <td>nonrobust</td>    <th>                     </th>     <td> </td>    \n",
              "</tr>\n",
              "</table>\n",
              "<table class=\"simpletable\">\n",
              "<tr>\n",
              "     <td></td>        <th>coef</th>     <th>std err</th>      <th>t</th>      <th>P>|t|</th>  <th>[0.025</th>    <th>0.975]</th>  \n",
              "</tr>\n",
              "<tr>\n",
              "  <th>const</th>   <td>   -0.4052</td> <td>    0.025</td> <td>  -16.379</td> <td> 0.000</td> <td>   -0.454</td> <td>   -0.357</td>\n",
              "</tr>\n",
              "<tr>\n",
              "  <th>Queries</th> <td>    2.2845</td> <td>    0.076</td> <td>   30.151</td> <td> 0.000</td> <td>    2.136</td> <td>    2.433</td>\n",
              "</tr>\n",
              "</table>\n",
              "<table class=\"simpletable\">\n",
              "<tr>\n",
              "  <th>Omnibus:</th>       <td> 0.700</td> <th>  Durbin-Watson:     </th> <td>   0.296</td>\n",
              "</tr>\n",
              "<tr>\n",
              "  <th>Prob(Omnibus):</th> <td> 0.705</td> <th>  Jarque-Bera (JB):  </th> <td>   0.788</td>\n",
              "</tr>\n",
              "<tr>\n",
              "  <th>Skew:</th>          <td> 0.018</td> <th>  Prob(JB):          </th> <td>   0.675</td>\n",
              "</tr>\n",
              "<tr>\n",
              "  <th>Kurtosis:</th>      <td> 2.790</td> <th>  Cond. No.          </th> <td>    6.88</td>\n",
              "</tr>\n",
              "</table><br/><br/>Warnings:<br/>[1] Standard Errors assume that the covariance matrix of the errors is correctly specified."
            ]
          },
          "metadata": {},
          "execution_count": 30
        }
      ]
    },
    {
      "cell_type": "markdown",
      "source": [
        "### **Problema 3**\n",
        "\n",
        "O arquivo [FluTest.csv](https://raw.githubusercontent.com/abnr/ml-data/main/FluTest.csv) contem os dados de 2012, utilize esses dados para teste. Calcule as métricas de erro para esse dataset e faça a análise residual.\n"
      ],
      "metadata": {
        "id": "TGdtpg1X4lwK"
      }
    },
    {
      "cell_type": "code",
      "source": [
        "df_test = pd.read_csv('https://raw.githubusercontent.com/abnr/ml-data/main/FluTest.csv')\n",
        "df_test.head()"
      ],
      "metadata": {
        "colab": {
          "base_uri": "https://localhost:8080/",
          "height": 206
        },
        "id": "PlycuFsC4uP7",
        "outputId": "50321c69-e052-415c-a614-39f87cb0c99a"
      },
      "execution_count": 31,
      "outputs": [
        {
          "output_type": "execute_result",
          "data": {
            "text/plain": [
              "                      Week       ILI   Queries\n",
              "0  2012-01-01 - 2012-01-07  1.766707  0.593625\n",
              "1  2012-01-08 - 2012-01-14  1.543401  0.499336\n",
              "2  2012-01-15 - 2012-01-21  1.647615  0.500664\n",
              "3  2012-01-22 - 2012-01-28  1.684297  0.479416\n",
              "4  2012-01-29 - 2012-02-04  1.863542  0.471448"
            ],
            "text/html": [
              "\n",
              "  <div id=\"df-36a3dabb-5e62-45fd-95db-79d6d29dac36\">\n",
              "    <div class=\"colab-df-container\">\n",
              "      <div>\n",
              "<style scoped>\n",
              "    .dataframe tbody tr th:only-of-type {\n",
              "        vertical-align: middle;\n",
              "    }\n",
              "\n",
              "    .dataframe tbody tr th {\n",
              "        vertical-align: top;\n",
              "    }\n",
              "\n",
              "    .dataframe thead th {\n",
              "        text-align: right;\n",
              "    }\n",
              "</style>\n",
              "<table border=\"1\" class=\"dataframe\">\n",
              "  <thead>\n",
              "    <tr style=\"text-align: right;\">\n",
              "      <th></th>\n",
              "      <th>Week</th>\n",
              "      <th>ILI</th>\n",
              "      <th>Queries</th>\n",
              "    </tr>\n",
              "  </thead>\n",
              "  <tbody>\n",
              "    <tr>\n",
              "      <th>0</th>\n",
              "      <td>2012-01-01 - 2012-01-07</td>\n",
              "      <td>1.766707</td>\n",
              "      <td>0.593625</td>\n",
              "    </tr>\n",
              "    <tr>\n",
              "      <th>1</th>\n",
              "      <td>2012-01-08 - 2012-01-14</td>\n",
              "      <td>1.543401</td>\n",
              "      <td>0.499336</td>\n",
              "    </tr>\n",
              "    <tr>\n",
              "      <th>2</th>\n",
              "      <td>2012-01-15 - 2012-01-21</td>\n",
              "      <td>1.647615</td>\n",
              "      <td>0.500664</td>\n",
              "    </tr>\n",
              "    <tr>\n",
              "      <th>3</th>\n",
              "      <td>2012-01-22 - 2012-01-28</td>\n",
              "      <td>1.684297</td>\n",
              "      <td>0.479416</td>\n",
              "    </tr>\n",
              "    <tr>\n",
              "      <th>4</th>\n",
              "      <td>2012-01-29 - 2012-02-04</td>\n",
              "      <td>1.863542</td>\n",
              "      <td>0.471448</td>\n",
              "    </tr>\n",
              "  </tbody>\n",
              "</table>\n",
              "</div>\n",
              "      <button class=\"colab-df-convert\" onclick=\"convertToInteractive('df-36a3dabb-5e62-45fd-95db-79d6d29dac36')\"\n",
              "              title=\"Convert this dataframe to an interactive table.\"\n",
              "              style=\"display:none;\">\n",
              "        \n",
              "  <svg xmlns=\"http://www.w3.org/2000/svg\" height=\"24px\"viewBox=\"0 0 24 24\"\n",
              "       width=\"24px\">\n",
              "    <path d=\"M0 0h24v24H0V0z\" fill=\"none\"/>\n",
              "    <path d=\"M18.56 5.44l.94 2.06.94-2.06 2.06-.94-2.06-.94-.94-2.06-.94 2.06-2.06.94zm-11 1L8.5 8.5l.94-2.06 2.06-.94-2.06-.94L8.5 2.5l-.94 2.06-2.06.94zm10 10l.94 2.06.94-2.06 2.06-.94-2.06-.94-.94-2.06-.94 2.06-2.06.94z\"/><path d=\"M17.41 7.96l-1.37-1.37c-.4-.4-.92-.59-1.43-.59-.52 0-1.04.2-1.43.59L10.3 9.45l-7.72 7.72c-.78.78-.78 2.05 0 2.83L4 21.41c.39.39.9.59 1.41.59.51 0 1.02-.2 1.41-.59l7.78-7.78 2.81-2.81c.8-.78.8-2.07 0-2.86zM5.41 20L4 18.59l7.72-7.72 1.47 1.35L5.41 20z\"/>\n",
              "  </svg>\n",
              "      </button>\n",
              "      \n",
              "  <style>\n",
              "    .colab-df-container {\n",
              "      display:flex;\n",
              "      flex-wrap:wrap;\n",
              "      gap: 12px;\n",
              "    }\n",
              "\n",
              "    .colab-df-convert {\n",
              "      background-color: #E8F0FE;\n",
              "      border: none;\n",
              "      border-radius: 50%;\n",
              "      cursor: pointer;\n",
              "      display: none;\n",
              "      fill: #1967D2;\n",
              "      height: 32px;\n",
              "      padding: 0 0 0 0;\n",
              "      width: 32px;\n",
              "    }\n",
              "\n",
              "    .colab-df-convert:hover {\n",
              "      background-color: #E2EBFA;\n",
              "      box-shadow: 0px 1px 2px rgba(60, 64, 67, 0.3), 0px 1px 3px 1px rgba(60, 64, 67, 0.15);\n",
              "      fill: #174EA6;\n",
              "    }\n",
              "\n",
              "    [theme=dark] .colab-df-convert {\n",
              "      background-color: #3B4455;\n",
              "      fill: #D2E3FC;\n",
              "    }\n",
              "\n",
              "    [theme=dark] .colab-df-convert:hover {\n",
              "      background-color: #434B5C;\n",
              "      box-shadow: 0px 1px 3px 1px rgba(0, 0, 0, 0.15);\n",
              "      filter: drop-shadow(0px 1px 2px rgba(0, 0, 0, 0.3));\n",
              "      fill: #FFFFFF;\n",
              "    }\n",
              "  </style>\n",
              "\n",
              "      <script>\n",
              "        const buttonEl =\n",
              "          document.querySelector('#df-36a3dabb-5e62-45fd-95db-79d6d29dac36 button.colab-df-convert');\n",
              "        buttonEl.style.display =\n",
              "          google.colab.kernel.accessAllowed ? 'block' : 'none';\n",
              "\n",
              "        async function convertToInteractive(key) {\n",
              "          const element = document.querySelector('#df-36a3dabb-5e62-45fd-95db-79d6d29dac36');\n",
              "          const dataTable =\n",
              "            await google.colab.kernel.invokeFunction('convertToInteractive',\n",
              "                                                     [key], {});\n",
              "          if (!dataTable) return;\n",
              "\n",
              "          const docLinkHtml = 'Like what you see? Visit the ' +\n",
              "            '<a target=\"_blank\" href=https://colab.research.google.com/notebooks/data_table.ipynb>data table notebook</a>'\n",
              "            + ' to learn more about interactive tables.';\n",
              "          element.innerHTML = '';\n",
              "          dataTable['output_type'] = 'display_data';\n",
              "          await google.colab.output.renderOutput(dataTable, element);\n",
              "          const docLink = document.createElement('div');\n",
              "          docLink.innerHTML = docLinkHtml;\n",
              "          element.appendChild(docLink);\n",
              "        }\n",
              "      </script>\n",
              "    </div>\n",
              "  </div>\n",
              "  "
            ]
          },
          "metadata": {},
          "execution_count": 31
        }
      ]
    },
    {
      "cell_type": "code",
      "source": [
        "x_test = df_test['Queries']\n",
        "x_test = sm.add_constant( x_test)"
      ],
      "metadata": {
        "colab": {
          "base_uri": "https://localhost:8080/"
        },
        "id": "i-eN2VQ55HT-",
        "outputId": "a46a3bdb-02d2-40ef-afcb-9e050396b3b9"
      },
      "execution_count": 32,
      "outputs": [
        {
          "output_type": "stream",
          "name": "stderr",
          "text": [
            "/usr/local/lib/python3.7/dist-packages/statsmodels/tsa/tsatools.py:117: FutureWarning: In a future version of pandas all arguments of concat except for the argument 'objs' will be keyword-only\n",
            "  x = pd.concat(x[::order], 1)\n"
          ]
        }
      ]
    },
    {
      "cell_type": "code",
      "source": [
        "y_pred = results_flu.predict( x_test )"
      ],
      "metadata": {
        "id": "O5uZrcU-5RHR"
      },
      "execution_count": 33,
      "outputs": []
    },
    {
      "cell_type": "markdown",
      "source": [
        "Aqui nessa etapa um detalhe importante, anteriormente precisamos tranformar os dados com o Box-Cox e será necessário repetir essa etapa. Porém, ao fazer isso anteriormente armazenamos um valor λ (`l`), vamos usar esse valor para aplicar no dado de texte."
      ],
      "metadata": {
        "id": "1-OC0X0Y5Y-k"
      }
    },
    {
      "cell_type": "code",
      "source": [
        "ili_test = stats.boxcox( df_test['ILI'], l )"
      ],
      "metadata": {
        "id": "CpsnLVQN7CRa"
      },
      "execution_count": 37,
      "outputs": []
    },
    {
      "cell_type": "code",
      "source": [
        "plt.plot( y_pred, label='predito' )\n",
        "plt.plot( ili_test, label = 'real')\n",
        "plt.legend()"
      ],
      "metadata": {
        "colab": {
          "base_uri": "https://localhost:8080/",
          "height": 282
        },
        "id": "sXmdBJ4-7NAY",
        "outputId": "20b6ff0b-410d-451a-e804-e83bef86f323"
      },
      "execution_count": 38,
      "outputs": [
        {
          "output_type": "execute_result",
          "data": {
            "text/plain": [
              "<matplotlib.legend.Legend at 0x7fc33d757f50>"
            ]
          },
          "metadata": {},
          "execution_count": 38
        },
        {
          "output_type": "display_data",
          "data": {
            "text/plain": [
              "<Figure size 432x288 with 1 Axes>"
            ],
            "image/png": "[encoded data removed]"
          },
          "metadata": {
            "needs_background": "light"
          }
        }
      ]
    },
    {
      "cell_type": "markdown",
      "source": [
        "Os dados ficaram bem parecidos. Como será que ficou a correlação?"
      ],
      "metadata": {
        "id": "kIvawV5W8FGt"
      }
    },
    {
      "cell_type": "code",
      "source": [
        "result_df = pd.DataFrame( {'real':ili_test, 'predito':y_pred} )\n",
        "result_df.head(5)"
      ],
      "metadata": {
        "colab": {
          "base_uri": "https://localhost:8080/",
          "height": 206
        },
        "id": "e9Jwx6A98RpI",
        "outputId": "578582af-997d-4796-ed1d-e58aeeca071d"
      },
      "execution_count": 39,
      "outputs": [
        {
          "output_type": "execute_result",
          "data": {
            "text/plain": [
              "       real   predito\n",
              "0  0.487100  0.950897\n",
              "1  0.385130  0.735495\n",
              "2  0.435404  0.738528\n",
              "3  0.451935  0.689987\n",
              "4  0.525283  0.671784"
            ],
            "text/html": [
              "\n",
              "  <div id=\"df-fe42175a-8f20-4d9e-88c5-a48d2574df15\">\n",
              "    <div class=\"colab-df-container\">\n",
              "      <div>\n",
              "<style scoped>\n",
              "    .dataframe tbody tr th:only-of-type {\n",
              "        vertical-align: middle;\n",
              "    }\n",
              "\n",
              "    .dataframe tbody tr th {\n",
              "        vertical-align: top;\n",
              "    }\n",
              "\n",
              "    .dataframe thead th {\n",
              "        text-align: right;\n",
              "    }\n",
              "</style>\n",
              "<table border=\"1\" class=\"dataframe\">\n",
              "  <thead>\n",
              "    <tr style=\"text-align: right;\">\n",
              "      <th></th>\n",
              "      <th>real</th>\n",
              "      <th>predito</th>\n",
              "    </tr>\n",
              "  </thead>\n",
              "  <tbody>\n",
              "    <tr>\n",
              "      <th>0</th>\n",
              "      <td>0.487100</td>\n",
              "      <td>0.950897</td>\n",
              "    </tr>\n",
              "    <tr>\n",
              "      <th>1</th>\n",
              "      <td>0.385130</td>\n",
              "      <td>0.735495</td>\n",
              "    </tr>\n",
              "    <tr>\n",
              "      <th>2</th>\n",
              "      <td>0.435404</td>\n",
              "      <td>0.738528</td>\n",
              "    </tr>\n",
              "    <tr>\n",
              "      <th>3</th>\n",
              "      <td>0.451935</td>\n",
              "      <td>0.689987</td>\n",
              "    </tr>\n",
              "    <tr>\n",
              "      <th>4</th>\n",
              "      <td>0.525283</td>\n",
              "      <td>0.671784</td>\n",
              "    </tr>\n",
              "  </tbody>\n",
              "</table>\n",
              "</div>\n",
              "      <button class=\"colab-df-convert\" onclick=\"convertToInteractive('df-fe42175a-8f20-4d9e-88c5-a48d2574df15')\"\n",
              "              title=\"Convert this dataframe to an interactive table.\"\n",
              "              style=\"display:none;\">\n",
              "        \n",
              "  <svg xmlns=\"http://www.w3.org/2000/svg\" height=\"24px\"viewBox=\"0 0 24 24\"\n",
              "       width=\"24px\">\n",
              "    <path d=\"M0 0h24v24H0V0z\" fill=\"none\"/>\n",
              "    <path d=\"M18.56 5.44l.94 2.06.94-2.06 2.06-.94-2.06-.94-.94-2.06-.94 2.06-2.06.94zm-11 1L8.5 8.5l.94-2.06 2.06-.94-2.06-.94L8.5 2.5l-.94 2.06-2.06.94zm10 10l.94 2.06.94-2.06 2.06-.94-2.06-.94-.94-2.06-.94 2.06-2.06.94z\"/><path d=\"M17.41 7.96l-1.37-1.37c-.4-.4-.92-.59-1.43-.59-.52 0-1.04.2-1.43.59L10.3 9.45l-7.72 7.72c-.78.78-.78 2.05 0 2.83L4 21.41c.39.39.9.59 1.41.59.51 0 1.02-.2 1.41-.59l7.78-7.78 2.81-2.81c.8-.78.8-2.07 0-2.86zM5.41 20L4 18.59l7.72-7.72 1.47 1.35L5.41 20z\"/>\n",
              "  </svg>\n",
              "      </button>\n",
              "      \n",
              "  <style>\n",
              "    .colab-df-container {\n",
              "      display:flex;\n",
              "      flex-wrap:wrap;\n",
              "      gap: 12px;\n",
              "    }\n",
              "\n",
              "    .colab-df-convert {\n",
              "      background-color: #E8F0FE;\n",
              "      border: none;\n",
              "      border-radius: 50%;\n",
              "      cursor: pointer;\n",
              "      display: none;\n",
              "      fill: #1967D2;\n",
              "      height: 32px;\n",
              "      padding: 0 0 0 0;\n",
              "      width: 32px;\n",
              "    }\n",
              "\n",
              "    .colab-df-convert:hover {\n",
              "      background-color: #E2EBFA;\n",
              "      box-shadow: 0px 1px 2px rgba(60, 64, 67, 0.3), 0px 1px 3px 1px rgba(60, 64, 67, 0.15);\n",
              "      fill: #174EA6;\n",
              "    }\n",
              "\n",
              "    [theme=dark] .colab-df-convert {\n",
              "      background-color: #3B4455;\n",
              "      fill: #D2E3FC;\n",
              "    }\n",
              "\n",
              "    [theme=dark] .colab-df-convert:hover {\n",
              "      background-color: #434B5C;\n",
              "      box-shadow: 0px 1px 3px 1px rgba(0, 0, 0, 0.15);\n",
              "      filter: drop-shadow(0px 1px 2px rgba(0, 0, 0, 0.3));\n",
              "      fill: #FFFFFF;\n",
              "    }\n",
              "  </style>\n",
              "\n",
              "      <script>\n",
              "        const buttonEl =\n",
              "          document.querySelector('#df-fe42175a-8f20-4d9e-88c5-a48d2574df15 button.colab-df-convert');\n",
              "        buttonEl.style.display =\n",
              "          google.colab.kernel.accessAllowed ? 'block' : 'none';\n",
              "\n",
              "        async function convertToInteractive(key) {\n",
              "          const element = document.querySelector('#df-fe42175a-8f20-4d9e-88c5-a48d2574df15');\n",
              "          const dataTable =\n",
              "            await google.colab.kernel.invokeFunction('convertToInteractive',\n",
              "                                                     [key], {});\n",
              "          if (!dataTable) return;\n",
              "\n",
              "          const docLinkHtml = 'Like what you see? Visit the ' +\n",
              "            '<a target=\"_blank\" href=https://colab.research.google.com/notebooks/data_table.ipynb>data table notebook</a>'\n",
              "            + ' to learn more about interactive tables.';\n",
              "          element.innerHTML = '';\n",
              "          dataTable['output_type'] = 'display_data';\n",
              "          await google.colab.output.renderOutput(dataTable, element);\n",
              "          const docLink = document.createElement('div');\n",
              "          docLink.innerHTML = docLinkHtml;\n",
              "          element.appendChild(docLink);\n",
              "        }\n",
              "      </script>\n",
              "    </div>\n",
              "  </div>\n",
              "  "
            ]
          },
          "metadata": {},
          "execution_count": 39
        }
      ]
    },
    {
      "cell_type": "code",
      "source": [
        "result_df.corr()"
      ],
      "metadata": {
        "colab": {
          "base_uri": "https://localhost:8080/",
          "height": 112
        },
        "id": "nHWVujtb8qE7",
        "outputId": "eb0dd248-c909-410c-e394-cc48b12f6c54"
      },
      "execution_count": 40,
      "outputs": [
        {
          "output_type": "execute_result",
          "data": {
            "text/plain": [
              "            real  predito\n",
              "real     1.00000  0.88302\n",
              "predito  0.88302  1.00000"
            ],
            "text/html": [
              "\n",
              "  <div id=\"df-2cb192bc-afdf-48c6-b32b-1a9f1e94d9a1\">\n",
              "    <div class=\"colab-df-container\">\n",
              "      <div>\n",
              "<style scoped>\n",
              "    .dataframe tbody tr th:only-of-type {\n",
              "        vertical-align: middle;\n",
              "    }\n",
              "\n",
              "    .dataframe tbody tr th {\n",
              "        vertical-align: top;\n",
              "    }\n",
              "\n",
              "    .dataframe thead th {\n",
              "        text-align: right;\n",
              "    }\n",
              "</style>\n",
              "<table border=\"1\" class=\"dataframe\">\n",
              "  <thead>\n",
              "    <tr style=\"text-align: right;\">\n",
              "      <th></th>\n",
              "      <th>real</th>\n",
              "      <th>predito</th>\n",
              "    </tr>\n",
              "  </thead>\n",
              "  <tbody>\n",
              "    <tr>\n",
              "      <th>real</th>\n",
              "      <td>1.00000</td>\n",
              "      <td>0.88302</td>\n",
              "    </tr>\n",
              "    <tr>\n",
              "      <th>predito</th>\n",
              "      <td>0.88302</td>\n",
              "      <td>1.00000</td>\n",
              "    </tr>\n",
              "  </tbody>\n",
              "</table>\n",
              "</div>\n",
              "      <button class=\"colab-df-convert\" onclick=\"convertToInteractive('df-2cb192bc-afdf-48c6-b32b-1a9f1e94d9a1')\"\n",
              "              title=\"Convert this dataframe to an interactive table.\"\n",
              "              style=\"display:none;\">\n",
              "        \n",
              "  <svg xmlns=\"http://www.w3.org/2000/svg\" height=\"24px\"viewBox=\"0 0 24 24\"\n",
              "       width=\"24px\">\n",
              "    <path d=\"M0 0h24v24H0V0z\" fill=\"none\"/>\n",
              "    <path d=\"M18.56 5.44l.94 2.06.94-2.06 2.06-.94-2.06-.94-.94-2.06-.94 2.06-2.06.94zm-11 1L8.5 8.5l.94-2.06 2.06-.94-2.06-.94L8.5 2.5l-.94 2.06-2.06.94zm10 10l.94 2.06.94-2.06 2.06-.94-2.06-.94-.94-2.06-.94 2.06-2.06.94z\"/><path d=\"M17.41 7.96l-1.37-1.37c-.4-.4-.92-.59-1.43-.59-.52 0-1.04.2-1.43.59L10.3 9.45l-7.72 7.72c-.78.78-.78 2.05 0 2.83L4 21.41c.39.39.9.59 1.41.59.51 0 1.02-.2 1.41-.59l7.78-7.78 2.81-2.81c.8-.78.8-2.07 0-2.86zM5.41 20L4 18.59l7.72-7.72 1.47 1.35L5.41 20z\"/>\n",
              "  </svg>\n",
              "      </button>\n",
              "      \n",
              "  <style>\n",
              "    .colab-df-container {\n",
              "      display:flex;\n",
              "      flex-wrap:wrap;\n",
              "      gap: 12px;\n",
              "    }\n",
              "\n",
              "    .colab-df-convert {\n",
              "      background-color: #E8F0FE;\n",
              "      border: none;\n",
              "      border-radius: 50%;\n",
              "      cursor: pointer;\n",
              "      display: none;\n",
              "      fill: #1967D2;\n",
              "      height: 32px;\n",
              "      padding: 0 0 0 0;\n",
              "      width: 32px;\n",
              "    }\n",
              "\n",
              "    .colab-df-convert:hover {\n",
              "      background-color: #E2EBFA;\n",
              "      box-shadow: 0px 1px 2px rgba(60, 64, 67, 0.3), 0px 1px 3px 1px rgba(60, 64, 67, 0.15);\n",
              "      fill: #174EA6;\n",
              "    }\n",
              "\n",
              "    [theme=dark] .colab-df-convert {\n",
              "      background-color: #3B4455;\n",
              "      fill: #D2E3FC;\n",
              "    }\n",
              "\n",
              "    [theme=dark] .colab-df-convert:hover {\n",
              "      background-color: #434B5C;\n",
              "      box-shadow: 0px 1px 3px 1px rgba(0, 0, 0, 0.15);\n",
              "      filter: drop-shadow(0px 1px 2px rgba(0, 0, 0, 0.3));\n",
              "      fill: #FFFFFF;\n",
              "    }\n",
              "  </style>\n",
              "\n",
              "      <script>\n",
              "        const buttonEl =\n",
              "          document.querySelector('#df-2cb192bc-afdf-48c6-b32b-1a9f1e94d9a1 button.colab-df-convert');\n",
              "        buttonEl.style.display =\n",
              "          google.colab.kernel.accessAllowed ? 'block' : 'none';\n",
              "\n",
              "        async function convertToInteractive(key) {\n",
              "          const element = document.querySelector('#df-2cb192bc-afdf-48c6-b32b-1a9f1e94d9a1');\n",
              "          const dataTable =\n",
              "            await google.colab.kernel.invokeFunction('convertToInteractive',\n",
              "                                                     [key], {});\n",
              "          if (!dataTable) return;\n",
              "\n",
              "          const docLinkHtml = 'Like what you see? Visit the ' +\n",
              "            '<a target=\"_blank\" href=https://colab.research.google.com/notebooks/data_table.ipynb>data table notebook</a>'\n",
              "            + ' to learn more about interactive tables.';\n",
              "          element.innerHTML = '';\n",
              "          dataTable['output_type'] = 'display_data';\n",
              "          await google.colab.output.renderOutput(dataTable, element);\n",
              "          const docLink = document.createElement('div');\n",
              "          docLink.innerHTML = docLinkHtml;\n",
              "          element.appendChild(docLink);\n",
              "        }\n",
              "      </script>\n",
              "    </div>\n",
              "  </div>\n",
              "  "
            ]
          },
          "metadata": {},
          "execution_count": 40
        }
      ]
    },
    {
      "cell_type": "markdown",
      "source": [
        "Correlação de `0.88302` entre o real e o predito."
      ],
      "metadata": {
        "id": "BcZXB_1B8xZ9"
      }
    },
    {
      "cell_type": "markdown",
      "source": [
        "### Problema 4\n",
        "\n",
        "Crie uma nova variável usando a coluna ILI com lag de 2. Utilize essa variável, além das buscas do google como entrada. Treine o modelo de regressão, refaça análise residual e verifique quais variáveis foram significativas. Compare as métricas de erro do dataset de teste desse modelo com o modelo anterior."
      ],
      "metadata": {
        "id": "FmcV-0JT88Hs"
      }
    },
    {
      "cell_type": "markdown",
      "source": [
        "Os dados foram coletados com uma frequência semanal, usar aplicar um lag 2 nos dados significa que estamos espaçando a informação em duas semanas."
      ],
      "metadata": {
        "id": "dAvbRAeb9K2W"
      }
    },
    {
      "cell_type": "code",
      "source": [
        "df['ili_lag'] = df['ILI'].shift(2)\n",
        "df.head()"
      ],
      "metadata": {
        "colab": {
          "base_uri": "https://localhost:8080/",
          "height": 206
        },
        "id": "yTdaIlNv_zIV",
        "outputId": "6cbe2187-3f43-4c54-d791-6827581ec28f"
      },
      "execution_count": 42,
      "outputs": [
        {
          "output_type": "execute_result",
          "data": {
            "text/plain": [
              "                      Week       ILI   Queries   ili_lag\n",
              "0  2004-01-04 - 2004-01-10  2.418331  0.237716       NaN\n",
              "1  2004-01-11 - 2004-01-17  1.809056  0.220452       NaN\n",
              "2  2004-01-18 - 2004-01-24  1.712024  0.225764  2.418331\n",
              "3  2004-01-25 - 2004-01-31  1.542495  0.237716  1.809056\n",
              "4  2004-02-01 - 2004-02-07  1.437868  0.224436  1.712024"
            ],
            "text/html": [
              "\n",
              "  <div id=\"df-45255d47-b29c-4cf1-98ee-b46b9a363412\">\n",
              "    <div class=\"colab-df-container\">\n",
              "      <div>\n",
              "<style scoped>\n",
              "    .dataframe tbody tr th:only-of-type {\n",
              "        vertical-align: middle;\n",
              "    }\n",
              "\n",
              "    .dataframe tbody tr th {\n",
              "        vertical-align: top;\n",
              "    }\n",
              "\n",
              "    .dataframe thead th {\n",
              "        text-align: right;\n",
              "    }\n",
              "</style>\n",
              "<table border=\"1\" class=\"dataframe\">\n",
              "  <thead>\n",
              "    <tr style=\"text-align: right;\">\n",
              "      <th></th>\n",
              "      <th>Week</th>\n",
              "      <th>ILI</th>\n",
              "      <th>Queries</th>\n",
              "      <th>ili_lag</th>\n",
              "    </tr>\n",
              "  </thead>\n",
              "  <tbody>\n",
              "    <tr>\n",
              "      <th>0</th>\n",
              "      <td>2004-01-04 - 2004-01-10</td>\n",
              "      <td>2.418331</td>\n",
              "      <td>0.237716</td>\n",
              "      <td>NaN</td>\n",
              "    </tr>\n",
              "    <tr>\n",
              "      <th>1</th>\n",
              "      <td>2004-01-11 - 2004-01-17</td>\n",
              "      <td>1.809056</td>\n",
              "      <td>0.220452</td>\n",
              "      <td>NaN</td>\n",
              "    </tr>\n",
              "    <tr>\n",
              "      <th>2</th>\n",
              "      <td>2004-01-18 - 2004-01-24</td>\n",
              "      <td>1.712024</td>\n",
              "      <td>0.225764</td>\n",
              "      <td>2.418331</td>\n",
              "    </tr>\n",
              "    <tr>\n",
              "      <th>3</th>\n",
              "      <td>2004-01-25 - 2004-01-31</td>\n",
              "      <td>1.542495</td>\n",
              "      <td>0.237716</td>\n",
              "      <td>1.809056</td>\n",
              "    </tr>\n",
              "    <tr>\n",
              "      <th>4</th>\n",
              "      <td>2004-02-01 - 2004-02-07</td>\n",
              "      <td>1.437868</td>\n",
              "      <td>0.224436</td>\n",
              "      <td>1.712024</td>\n",
              "    </tr>\n",
              "  </tbody>\n",
              "</table>\n",
              "</div>\n",
              "      <button class=\"colab-df-convert\" onclick=\"convertToInteractive('df-45255d47-b29c-4cf1-98ee-b46b9a363412')\"\n",
              "              title=\"Convert this dataframe to an interactive table.\"\n",
              "              style=\"display:none;\">\n",
              "        \n",
              "  <svg xmlns=\"http://www.w3.org/2000/svg\" height=\"24px\"viewBox=\"0 0 24 24\"\n",
              "       width=\"24px\">\n",
              "    <path d=\"M0 0h24v24H0V0z\" fill=\"none\"/>\n",
              "    <path d=\"M18.56 5.44l.94 2.06.94-2.06 2.06-.94-2.06-.94-.94-2.06-.94 2.06-2.06.94zm-11 1L8.5 8.5l.94-2.06 2.06-.94-2.06-.94L8.5 2.5l-.94 2.06-2.06.94zm10 10l.94 2.06.94-2.06 2.06-.94-2.06-.94-.94-2.06-.94 2.06-2.06.94z\"/><path d=\"M17.41 7.96l-1.37-1.37c-.4-.4-.92-.59-1.43-.59-.52 0-1.04.2-1.43.59L10.3 9.45l-7.72 7.72c-.78.78-.78 2.05 0 2.83L4 21.41c.39.39.9.59 1.41.59.51 0 1.02-.2 1.41-.59l7.78-7.78 2.81-2.81c.8-.78.8-2.07 0-2.86zM5.41 20L4 18.59l7.72-7.72 1.47 1.35L5.41 20z\"/>\n",
              "  </svg>\n",
              "      </button>\n",
              "      \n",
              "  <style>\n",
              "    .colab-df-container {\n",
              "      display:flex;\n",
              "      flex-wrap:wrap;\n",
              "      gap: 12px;\n",
              "    }\n",
              "\n",
              "    .colab-df-convert {\n",
              "      background-color: #E8F0FE;\n",
              "      border: none;\n",
              "      border-radius: 50%;\n",
              "      cursor: pointer;\n",
              "      display: none;\n",
              "      fill: #1967D2;\n",
              "      height: 32px;\n",
              "      padding: 0 0 0 0;\n",
              "      width: 32px;\n",
              "    }\n",
              "\n",
              "    .colab-df-convert:hover {\n",
              "      background-color: #E2EBFA;\n",
              "      box-shadow: 0px 1px 2px rgba(60, 64, 67, 0.3), 0px 1px 3px 1px rgba(60, 64, 67, 0.15);\n",
              "      fill: #174EA6;\n",
              "    }\n",
              "\n",
              "    [theme=dark] .colab-df-convert {\n",
              "      background-color: #3B4455;\n",
              "      fill: #D2E3FC;\n",
              "    }\n",
              "\n",
              "    [theme=dark] .colab-df-convert:hover {\n",
              "      background-color: #434B5C;\n",
              "      box-shadow: 0px 1px 3px 1px rgba(0, 0, 0, 0.15);\n",
              "      filter: drop-shadow(0px 1px 2px rgba(0, 0, 0, 0.3));\n",
              "      fill: #FFFFFF;\n",
              "    }\n",
              "  </style>\n",
              "\n",
              "      <script>\n",
              "        const buttonEl =\n",
              "          document.querySelector('#df-45255d47-b29c-4cf1-98ee-b46b9a363412 button.colab-df-convert');\n",
              "        buttonEl.style.display =\n",
              "          google.colab.kernel.accessAllowed ? 'block' : 'none';\n",
              "\n",
              "        async function convertToInteractive(key) {\n",
              "          const element = document.querySelector('#df-45255d47-b29c-4cf1-98ee-b46b9a363412');\n",
              "          const dataTable =\n",
              "            await google.colab.kernel.invokeFunction('convertToInteractive',\n",
              "                                                     [key], {});\n",
              "          if (!dataTable) return;\n",
              "\n",
              "          const docLinkHtml = 'Like what you see? Visit the ' +\n",
              "            '<a target=\"_blank\" href=https://colab.research.google.com/notebooks/data_table.ipynb>data table notebook</a>'\n",
              "            + ' to learn more about interactive tables.';\n",
              "          element.innerHTML = '';\n",
              "          dataTable['output_type'] = 'display_data';\n",
              "          await google.colab.output.renderOutput(dataTable, element);\n",
              "          const docLink = document.createElement('div');\n",
              "          docLink.innerHTML = docLinkHtml;\n",
              "          element.appendChild(docLink);\n",
              "        }\n",
              "      </script>\n",
              "    </div>\n",
              "  </div>\n",
              "  "
            ]
          },
          "metadata": {},
          "execution_count": 42
        }
      ]
    },
    {
      "cell_type": "code",
      "source": [
        "df = df.dropna() # Removendo linhas de valores faltantes"
      ],
      "metadata": {
        "id": "UWCIGa3g_9Yx"
      },
      "execution_count": 44,
      "outputs": []
    },
    {
      "cell_type": "code",
      "source": [
        "ili_transformed, l = stats.boxcox( df['ILI'] )"
      ],
      "metadata": {
        "id": "qQbOr8ZFAO6_"
      },
      "execution_count": 45,
      "outputs": []
    },
    {
      "cell_type": "code",
      "source": [
        "x_train = df[['Queries', 'ili_lag']]\n",
        "x_train = sm.add_constant(x_train)"
      ],
      "metadata": {
        "colab": {
          "base_uri": "https://localhost:8080/"
        },
        "id": "TRKUeNPLATp9",
        "outputId": "5c318bd0-efa5-4afd-f8ca-c998e4da17bf"
      },
      "execution_count": 46,
      "outputs": [
        {
          "output_type": "stream",
          "name": "stderr",
          "text": [
            "/usr/local/lib/python3.7/dist-packages/statsmodels/tsa/tsatools.py:117: FutureWarning: In a future version of pandas all arguments of concat except for the argument 'objs' will be keyword-only\n",
            "  x = pd.concat(x[::order], 1)\n"
          ]
        }
      ]
    },
    {
      "cell_type": "code",
      "source": [
        "model_flu2 = sm.OLS( ili_transformed, x_train)\n",
        "model_results2 = model_flu2.fit()\n",
        "model_results2.summary()"
      ],
      "metadata": {
        "colab": {
          "base_uri": "https://localhost:8080/",
          "height": 473
        },
        "id": "wHymHzTlAX7S",
        "outputId": "3f27bd67-567e-4565-e5c1-f804590db9b9"
      },
      "execution_count": 48,
      "outputs": [
        {
          "output_type": "execute_result",
          "data": {
            "text/plain": [
              "<class 'statsmodels.iolib.summary.Summary'>\n",
              "\"\"\"\n",
              "                            OLS Regression Results                            \n",
              "==============================================================================\n",
              "Dep. Variable:                      y   R-squared:                       0.793\n",
              "Model:                            OLS   Adj. R-squared:                  0.792\n",
              "Method:                 Least Squares   F-statistic:                     790.8\n",
              "Date:                Thu, 16 Jun 2022   Prob (F-statistic):          8.86e-142\n",
              "Time:                        19:33:39   Log-Likelihood:                 85.322\n",
              "No. Observations:                 415   AIC:                            -164.6\n",
              "Df Residuals:                     412   BIC:                            -152.6\n",
              "Df Model:                           2                                         \n",
              "Covariance Type:            nonrobust                                         \n",
              "==============================================================================\n",
              "                 coef    std err          t      P>|t|      [0.025      0.975]\n",
              "------------------------------------------------------------------------------\n",
              "const         -0.4480      0.020    -22.073      0.000      -0.488      -0.408\n",
              "Queries        1.4044      0.087     16.146      0.000       1.233       1.575\n",
              "ili_lag        0.1738      0.012     14.275      0.000       0.150       0.198\n",
              "==============================================================================\n",
              "Omnibus:                       59.446   Durbin-Watson:                   0.390\n",
              "Prob(Omnibus):                  0.000   Jarque-Bera (JB):              139.299\n",
              "Skew:                          -0.736   Prob(JB):                     5.65e-31\n",
              "Kurtosis:                       5.427   Cond. No.                         20.1\n",
              "==============================================================================\n",
              "\n",
              "Warnings:\n",
              "[1] Standard Errors assume that the covariance matrix of the errors is correctly specified.\n",
              "\"\"\""
            ],
            "text/html": [
              "<table class=\"simpletable\">\n",
              "<caption>OLS Regression Results</caption>\n",
              "<tr>\n",
              "  <th>Dep. Variable:</th>            <td>y</td>        <th>  R-squared:         </th> <td>   0.793</td> \n",
              "</tr>\n",
              "<tr>\n",
              "  <th>Model:</th>                   <td>OLS</td>       <th>  Adj. R-squared:    </th> <td>   0.792</td> \n",
              "</tr>\n",
              "<tr>\n",
              "  <th>Method:</th>             <td>Least Squares</td>  <th>  F-statistic:       </th> <td>   790.8</td> \n",
              "</tr>\n",
              "<tr>\n",
              "  <th>Date:</th>             <td>Thu, 16 Jun 2022</td> <th>  Prob (F-statistic):</th> <td>8.86e-142</td>\n",
              "</tr>\n",
              "<tr>\n",
              "  <th>Time:</th>                 <td>19:33:39</td>     <th>  Log-Likelihood:    </th> <td>  85.322</td> \n",
              "</tr>\n",
              "<tr>\n",
              "  <th>No. Observations:</th>      <td>   415</td>      <th>  AIC:               </th> <td>  -164.6</td> \n",
              "</tr>\n",
              "<tr>\n",
              "  <th>Df Residuals:</th>          <td>   412</td>      <th>  BIC:               </th> <td>  -152.6</td> \n",
              "</tr>\n",
              "<tr>\n",
              "  <th>Df Model:</th>              <td>     2</td>      <th>                     </th>     <td> </td>    \n",
              "</tr>\n",
              "<tr>\n",
              "  <th>Covariance Type:</th>      <td>nonrobust</td>    <th>                     </th>     <td> </td>    \n",
              "</tr>\n",
              "</table>\n",
              "<table class=\"simpletable\">\n",
              "<tr>\n",
              "     <td></td>        <th>coef</th>     <th>std err</th>      <th>t</th>      <th>P>|t|</th>  <th>[0.025</th>    <th>0.975]</th>  \n",
              "</tr>\n",
              "<tr>\n",
              "  <th>const</th>   <td>   -0.4480</td> <td>    0.020</td> <td>  -22.073</td> <td> 0.000</td> <td>   -0.488</td> <td>   -0.408</td>\n",
              "</tr>\n",
              "<tr>\n",
              "  <th>Queries</th> <td>    1.4044</td> <td>    0.087</td> <td>   16.146</td> <td> 0.000</td> <td>    1.233</td> <td>    1.575</td>\n",
              "</tr>\n",
              "<tr>\n",
              "  <th>ili_lag</th> <td>    0.1738</td> <td>    0.012</td> <td>   14.275</td> <td> 0.000</td> <td>    0.150</td> <td>    0.198</td>\n",
              "</tr>\n",
              "</table>\n",
              "<table class=\"simpletable\">\n",
              "<tr>\n",
              "  <th>Omnibus:</th>       <td>59.446</td> <th>  Durbin-Watson:     </th> <td>   0.390</td>\n",
              "</tr>\n",
              "<tr>\n",
              "  <th>Prob(Omnibus):</th> <td> 0.000</td> <th>  Jarque-Bera (JB):  </th> <td> 139.299</td>\n",
              "</tr>\n",
              "<tr>\n",
              "  <th>Skew:</th>          <td>-0.736</td> <th>  Prob(JB):          </th> <td>5.65e-31</td>\n",
              "</tr>\n",
              "<tr>\n",
              "  <th>Kurtosis:</th>      <td> 5.427</td> <th>  Cond. No.          </th> <td>    20.1</td>\n",
              "</tr>\n",
              "</table><br/><br/>Warnings:<br/>[1] Standard Errors assume that the covariance matrix of the errors is correctly specified."
            ]
          },
          "metadata": {},
          "execution_count": 48
        }
      ]
    },
    {
      "cell_type": "code",
      "source": [
        "df_test = pd.read_csv('https://raw.githubusercontent.com/abnr/ml-data/main/FluTest.csv')\n",
        "df_test['ili_lag'] = df_test['ILI'].shift(2)\n",
        "\n",
        "x_test = df_test[['Queries', 'ili_lag' ] ]\n",
        "x_test = sm.add_constant( x_test )"
      ],
      "metadata": {
        "colab": {
          "base_uri": "https://localhost:8080/"
        },
        "id": "NBJ8gUBFAgPn",
        "outputId": "26ff4a32-3845-4f56-8485-996ce974958b"
      },
      "execution_count": 49,
      "outputs": [
        {
          "output_type": "stream",
          "name": "stderr",
          "text": [
            "/usr/local/lib/python3.7/dist-packages/statsmodels/tsa/tsatools.py:117: FutureWarning: In a future version of pandas all arguments of concat except for the argument 'objs' will be keyword-only\n",
            "  x = pd.concat(x[::order], 1)\n"
          ]
        }
      ]
    },
    {
      "cell_type": "code",
      "source": [
        "y_pred2 = model_results2.predict(x_test)"
      ],
      "metadata": {
        "id": "cHpi6UJbAppH"
      },
      "execution_count": 50,
      "outputs": []
    },
    {
      "cell_type": "code",
      "source": [
        "ili_test_transformed = stats.boxcox( df_test['ILI'], l)"
      ],
      "metadata": {
        "id": "HMDifPsYAs6i"
      },
      "execution_count": 51,
      "outputs": []
    },
    {
      "cell_type": "code",
      "source": [
        "plt.plot( y_pred2, label='predito' )\n",
        "plt.plot( ili_test_transformed, label = 'real')\n",
        "plt.legend()"
      ],
      "metadata": {
        "colab": {
          "base_uri": "https://localhost:8080/",
          "height": 282
        },
        "id": "5R_W6gVUAw5r",
        "outputId": "262dac13-1d74-4e50-ad02-e8382dff5fb4"
      },
      "execution_count": 52,
      "outputs": [
        {
          "output_type": "execute_result",
          "data": {
            "text/plain": [
              "<matplotlib.legend.Legend at 0x7fc33d940ed0>"
            ]
          },
          "metadata": {},
          "execution_count": 52
        },
        {
          "output_type": "display_data",
          "data": {
            "text/plain": [
              "<Figure size 432x288 with 1 Axes>"
            ],
            "image/png": "[encoded data removed]"
          },
          "metadata": {
            "needs_background": "light"
          }
        }
      ]
    },
    {
      "cell_type": "markdown",
      "source": [
        "Com o lag de 2 semana o dado tentende a melhorar a previsibilidade, com um erro menor em razão da autocorrelação dos dados. Assim, seria possível construir um modelo de previsibilidade baseado em consultas no google e que poderia antecipar em duas semana um evento como uma gripe.\n",
        "\n",
        "Vejamos como a autocorrelação se comporta ao longo de mais semanas."
      ],
      "metadata": {
        "id": "K0eseaDqBMlU"
      }
    },
    {
      "cell_type": "code",
      "source": [
        "acf = smt.graphics.plot_acf( ili_transformed, lags=20, alpha=0.5 )\n",
        "acf.show()"
      ],
      "metadata": {
        "colab": {
          "base_uri": "https://localhost:8080/",
          "height": 281
        },
        "id": "ZdpQsq90CcSd",
        "outputId": "e97bbed9-7e5d-4610-e43e-139234286a0f"
      },
      "execution_count": 53,
      "outputs": [
        {
          "output_type": "display_data",
          "data": {
            "text/plain": [
              "<Figure size 432x288 with 1 Axes>"
            ],
            "image/png": "[encoded data removed]"
          },
          "metadata": {
            "needs_background": "light"
          }
        }
      ]
    },
    {
      "cell_type": "markdown",
      "source": [
        "Esse gráfico é interessante, pois revela algo que é de conhecimeno popular. As temporadas de gripo tende ocorre no período mais frio (inverno), onde as pessoas tendem a aglomerá em espaços confinados e menos arejados.\n",
        "\n",
        "A autocorrelação entre os dados se mantém positiva por 15 semanas o que é coorente com o período de um estação do ano."
      ],
      "metadata": {
        "id": "AaYF6hSzDc9b"
      }
    }
  ]
}