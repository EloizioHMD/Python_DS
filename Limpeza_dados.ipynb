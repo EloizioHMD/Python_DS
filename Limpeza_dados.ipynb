{
  "nbformat": 4,
  "nbformat_minor": 0,
  "metadata": {
    "colab": {
      "provenance": [],
      "mount_file_id": "1Q0abaSohjfgNGBA3GpS1Is31A1QuT-yd",
      "authorship_tag": "ABX9TyPVcBOWi2vzN2mffQQzIJZQ",
      "include_colab_link": true
    },
    "kernelspec": {
      "name": "python3",
      "display_name": "Python 3"
    },
    "language_info": {
      "name": "python"
    }
  },
  "cells": [
    {
      "cell_type": "markdown",
      "metadata": {
        "id": "view-in-github",
        "colab_type": "text"
      },
      "source": [
        "<a href=\"https://colab.research.google.com/github/EloizioHMD/Python_DS/blob/main/Limpeza_dados.ipynb\" target=\"_parent\"><img src=\"https://colab.research.google.com/assets/colab-badge.svg\" alt=\"Open In Colab\"/></a>"
      ]
    },
    {
      "cell_type": "markdown",
      "source": [
        "Em continuação o preparação da base de dados, vamos fazer a limpeza da base de dados arrumando algumas incosistências antes do partir para o ML."
      ],
      "metadata": {
        "id": "vtzrk7YViRFU"
      }
    },
    {
      "cell_type": "code",
      "source": [
        "import pandas as pd\n",
        "import numpy as np"
      ],
      "metadata": {
        "id": "0yd1wZ-sPpL0"
      },
      "execution_count": 1,
      "outputs": []
    },
    {
      "cell_type": "code",
      "source": [
        "from google.colab import drive\n",
        "drive.mount('/content/drive')"
      ],
      "metadata": {
        "colab": {
          "base_uri": "https://localhost:8080/"
        },
        "id": "WKexIc9weFcn",
        "outputId": "4345135d-4e5a-443e-83e5-5f86226a64c0"
      },
      "execution_count": 2,
      "outputs": [
        {
          "output_type": "stream",
          "name": "stdout",
          "text": [
            "Drive already mounted at /content/drive; to attempt to forcibly remount, call drive.mount(\"/content/drive\", force_remount=True).\n"
          ]
        }
      ]
    },
    {
      "cell_type": "code",
      "execution_count": 3,
      "metadata": {
        "id": "aKJdiLWbPFVX"
      },
      "outputs": [],
      "source": [
        "df = pd.read_csv('/content/drive/MyDrive/rec_imovel_02.csv')"
      ]
    },
    {
      "cell_type": "markdown",
      "source": [
        "Carregados os dados direto do Google Drive, vamos fazer algumas explorações."
      ],
      "metadata": {
        "id": "ibtdl-PJiwiT"
      }
    },
    {
      "cell_type": "code",
      "source": [
        "df.shape"
      ],
      "metadata": {
        "colab": {
          "base_uri": "https://localhost:8080/"
        },
        "id": "JqFuOIARP-4C",
        "outputId": "31e30e82-cbde-452d-8143-b72d331e660f"
      },
      "execution_count": 4,
      "outputs": [
        {
          "output_type": "execute_result",
          "data": {
            "text/plain": [
              "(85608, 9)"
            ]
          },
          "metadata": {},
          "execution_count": 4
        }
      ]
    },
    {
      "cell_type": "code",
      "source": [
        "df = df.drop_duplicates()"
      ],
      "metadata": {
        "id": "YJ_GMMlOQHrj"
      },
      "execution_count": 5,
      "outputs": []
    },
    {
      "cell_type": "code",
      "source": [
        "df.shape"
      ],
      "metadata": {
        "colab": {
          "base_uri": "https://localhost:8080/"
        },
        "id": "it3pcuyvQYzw",
        "outputId": "49ec0fd6-b349-48bd-e2e9-c03cfcafb40f"
      },
      "execution_count": 6,
      "outputs": [
        {
          "output_type": "execute_result",
          "data": {
            "text/plain": [
              "(42804, 9)"
            ]
          },
          "metadata": {},
          "execution_count": 6
        }
      ]
    },
    {
      "cell_type": "markdown",
      "source": [
        "Os dados estavam duplicados. Em seguida vamos verificar valores faltantes."
      ],
      "metadata": {
        "id": "71XXHUMUi49z"
      }
    },
    {
      "cell_type": "code",
      "source": [
        "pd.DataFrame(data = [\n",
        "    df.isna().sum()/df.shape[0]*100,\n",
        "    df.isnull().sum()/df.shape[0]*100],\n",
        "    index=['Qtd. NA (%)','Qtd. Null (%)']\n",
        "    )"
      ],
      "metadata": {
        "colab": {
          "base_uri": "https://localhost:8080/",
          "height": 112
        },
        "id": "Kprn4evVQ-v-",
        "outputId": "d2dea0f9-f2ec-4000-ecae-3ba4a8984560"
      },
      "execution_count": 7,
      "outputs": [
        {
          "output_type": "execute_result",
          "data": {
            "text/plain": [
              "               Unnamed: 0  endereco  bairro  area_m2  quartos  banheiros  \\\n",
              "Qtd. NA (%)           0.0       0.0     0.0      0.0      0.0        0.0   \n",
              "Qtd. Null (%)         0.0       0.0     0.0      0.0      0.0        0.0   \n",
              "\n",
              "               vagas  valor  condominio  \n",
              "Qtd. NA (%)      0.0    0.0         0.0  \n",
              "Qtd. Null (%)    0.0    0.0         0.0  "
            ],
            "text/html": [
              "\n",
              "  <div id=\"df-4ed8041e-d6ee-434c-b729-98fc3d1bb9cd\">\n",
              "    <div class=\"colab-df-container\">\n",
              "      <div>\n",
              "<style scoped>\n",
              "    .dataframe tbody tr th:only-of-type {\n",
              "        vertical-align: middle;\n",
              "    }\n",
              "\n",
              "    .dataframe tbody tr th {\n",
              "        vertical-align: top;\n",
              "    }\n",
              "\n",
              "    .dataframe thead th {\n",
              "        text-align: right;\n",
              "    }\n",
              "</style>\n",
              "<table border=\"1\" class=\"dataframe\">\n",
              "  <thead>\n",
              "    <tr style=\"text-align: right;\">\n",
              "      <th></th>\n",
              "      <th>Unnamed: 0</th>\n",
              "      <th>endereco</th>\n",
              "      <th>bairro</th>\n",
              "      <th>area_m2</th>\n",
              "      <th>quartos</th>\n",
              "      <th>banheiros</th>\n",
              "      <th>vagas</th>\n",
              "      <th>valor</th>\n",
              "      <th>condominio</th>\n",
              "    </tr>\n",
              "  </thead>\n",
              "  <tbody>\n",
              "    <tr>\n",
              "      <th>Qtd. NA (%)</th>\n",
              "      <td>0.0</td>\n",
              "      <td>0.0</td>\n",
              "      <td>0.0</td>\n",
              "      <td>0.0</td>\n",
              "      <td>0.0</td>\n",
              "      <td>0.0</td>\n",
              "      <td>0.0</td>\n",
              "      <td>0.0</td>\n",
              "      <td>0.0</td>\n",
              "    </tr>\n",
              "    <tr>\n",
              "      <th>Qtd. Null (%)</th>\n",
              "      <td>0.0</td>\n",
              "      <td>0.0</td>\n",
              "      <td>0.0</td>\n",
              "      <td>0.0</td>\n",
              "      <td>0.0</td>\n",
              "      <td>0.0</td>\n",
              "      <td>0.0</td>\n",
              "      <td>0.0</td>\n",
              "      <td>0.0</td>\n",
              "    </tr>\n",
              "  </tbody>\n",
              "</table>\n",
              "</div>\n",
              "      <button class=\"colab-df-convert\" onclick=\"convertToInteractive('df-4ed8041e-d6ee-434c-b729-98fc3d1bb9cd')\"\n",
              "              title=\"Convert this dataframe to an interactive table.\"\n",
              "              style=\"display:none;\">\n",
              "        \n",
              "  <svg xmlns=\"http://www.w3.org/2000/svg\" height=\"24px\"viewBox=\"0 0 24 24\"\n",
              "       width=\"24px\">\n",
              "    <path d=\"M0 0h24v24H0V0z\" fill=\"none\"/>\n",
              "    <path d=\"M18.56 5.44l.94 2.06.94-2.06 2.06-.94-2.06-.94-.94-2.06-.94 2.06-2.06.94zm-11 1L8.5 8.5l.94-2.06 2.06-.94-2.06-.94L8.5 2.5l-.94 2.06-2.06.94zm10 10l.94 2.06.94-2.06 2.06-.94-2.06-.94-.94-2.06-.94 2.06-2.06.94z\"/><path d=\"M17.41 7.96l-1.37-1.37c-.4-.4-.92-.59-1.43-.59-.52 0-1.04.2-1.43.59L10.3 9.45l-7.72 7.72c-.78.78-.78 2.05 0 2.83L4 21.41c.39.39.9.59 1.41.59.51 0 1.02-.2 1.41-.59l7.78-7.78 2.81-2.81c.8-.78.8-2.07 0-2.86zM5.41 20L4 18.59l7.72-7.72 1.47 1.35L5.41 20z\"/>\n",
              "  </svg>\n",
              "      </button>\n",
              "      \n",
              "  <style>\n",
              "    .colab-df-container {\n",
              "      display:flex;\n",
              "      flex-wrap:wrap;\n",
              "      gap: 12px;\n",
              "    }\n",
              "\n",
              "    .colab-df-convert {\n",
              "      background-color: #E8F0FE;\n",
              "      border: none;\n",
              "      border-radius: 50%;\n",
              "      cursor: pointer;\n",
              "      display: none;\n",
              "      fill: #1967D2;\n",
              "      height: 32px;\n",
              "      padding: 0 0 0 0;\n",
              "      width: 32px;\n",
              "    }\n",
              "\n",
              "    .colab-df-convert:hover {\n",
              "      background-color: #E2EBFA;\n",
              "      box-shadow: 0px 1px 2px rgba(60, 64, 67, 0.3), 0px 1px 3px 1px rgba(60, 64, 67, 0.15);\n",
              "      fill: #174EA6;\n",
              "    }\n",
              "\n",
              "    [theme=dark] .colab-df-convert {\n",
              "      background-color: #3B4455;\n",
              "      fill: #D2E3FC;\n",
              "    }\n",
              "\n",
              "    [theme=dark] .colab-df-convert:hover {\n",
              "      background-color: #434B5C;\n",
              "      box-shadow: 0px 1px 3px 1px rgba(0, 0, 0, 0.15);\n",
              "      filter: drop-shadow(0px 1px 2px rgba(0, 0, 0, 0.3));\n",
              "      fill: #FFFFFF;\n",
              "    }\n",
              "  </style>\n",
              "\n",
              "      <script>\n",
              "        const buttonEl =\n",
              "          document.querySelector('#df-4ed8041e-d6ee-434c-b729-98fc3d1bb9cd button.colab-df-convert');\n",
              "        buttonEl.style.display =\n",
              "          google.colab.kernel.accessAllowed ? 'block' : 'none';\n",
              "\n",
              "        async function convertToInteractive(key) {\n",
              "          const element = document.querySelector('#df-4ed8041e-d6ee-434c-b729-98fc3d1bb9cd');\n",
              "          const dataTable =\n",
              "            await google.colab.kernel.invokeFunction('convertToInteractive',\n",
              "                                                     [key], {});\n",
              "          if (!dataTable) return;\n",
              "\n",
              "          const docLinkHtml = 'Like what you see? Visit the ' +\n",
              "            '<a target=\"_blank\" href=https://colab.research.google.com/notebooks/data_table.ipynb>data table notebook</a>'\n",
              "            + ' to learn more about interactive tables.';\n",
              "          element.innerHTML = '';\n",
              "          dataTable['output_type'] = 'display_data';\n",
              "          await google.colab.output.renderOutput(dataTable, element);\n",
              "          const docLink = document.createElement('div');\n",
              "          docLink.innerHTML = docLinkHtml;\n",
              "          element.appendChild(docLink);\n",
              "        }\n",
              "      </script>\n",
              "    </div>\n",
              "  </div>\n",
              "  "
            ]
          },
          "metadata": {},
          "execution_count": 7
        }
      ]
    },
    {
      "cell_type": "markdown",
      "source": [
        "Não há valores faltantes, mas imagino que seja necessário alguns ajustes."
      ],
      "metadata": {
        "id": "vObX0S09jFDk"
      }
    },
    {
      "cell_type": "code",
      "source": [
        "df.head()"
      ],
      "metadata": {
        "colab": {
          "base_uri": "https://localhost:8080/",
          "height": 206
        },
        "id": "5F16coQzSUYP",
        "outputId": "bccb5bd1-1bc8-4932-d2c1-779709241825"
      },
      "execution_count": 8,
      "outputs": [
        {
          "output_type": "execute_result",
          "data": {
            "text/plain": [
              "   Unnamed: 0                  endereco      bairro  area_m2     quartos  \\\n",
              "0           0      Rua General Polidoro      Várzea       55           2   \n",
              "1           1         Rua Monte Castelo   Boa Vista       33  1   Quarto   \n",
              "2           2               Rua Setúbal  Boa Viagem       86           3   \n",
              "3           3       Rua Quarenta e Oito     Aflitos       69           3   \n",
              "4           4  Rua Esmeraldino Bandeira      Graças       54  1   Quarto   \n",
              "\n",
              "      banheiros  vagas         valor condominio  \n",
              "0             2      1        330000        350  \n",
              "1  1   Banheiro      1  Sob Consulta          n  \n",
              "2             3  2   s        780000        740  \n",
              "3             3      1        378000        690  \n",
              "4  1   Banheiro      1        240000        590  "
            ],
            "text/html": [
              "\n",
              "  <div id=\"df-af657ff5-8802-44c9-ac26-a1a65f7f5dc7\">\n",
              "    <div class=\"colab-df-container\">\n",
              "      <div>\n",
              "<style scoped>\n",
              "    .dataframe tbody tr th:only-of-type {\n",
              "        vertical-align: middle;\n",
              "    }\n",
              "\n",
              "    .dataframe tbody tr th {\n",
              "        vertical-align: top;\n",
              "    }\n",
              "\n",
              "    .dataframe thead th {\n",
              "        text-align: right;\n",
              "    }\n",
              "</style>\n",
              "<table border=\"1\" class=\"dataframe\">\n",
              "  <thead>\n",
              "    <tr style=\"text-align: right;\">\n",
              "      <th></th>\n",
              "      <th>Unnamed: 0</th>\n",
              "      <th>endereco</th>\n",
              "      <th>bairro</th>\n",
              "      <th>area_m2</th>\n",
              "      <th>quartos</th>\n",
              "      <th>banheiros</th>\n",
              "      <th>vagas</th>\n",
              "      <th>valor</th>\n",
              "      <th>condominio</th>\n",
              "    </tr>\n",
              "  </thead>\n",
              "  <tbody>\n",
              "    <tr>\n",
              "      <th>0</th>\n",
              "      <td>0</td>\n",
              "      <td>Rua General Polidoro</td>\n",
              "      <td>Várzea</td>\n",
              "      <td>55</td>\n",
              "      <td>2</td>\n",
              "      <td>2</td>\n",
              "      <td>1</td>\n",
              "      <td>330000</td>\n",
              "      <td>350</td>\n",
              "    </tr>\n",
              "    <tr>\n",
              "      <th>1</th>\n",
              "      <td>1</td>\n",
              "      <td>Rua Monte Castelo</td>\n",
              "      <td>Boa Vista</td>\n",
              "      <td>33</td>\n",
              "      <td>1   Quarto</td>\n",
              "      <td>1   Banheiro</td>\n",
              "      <td>1</td>\n",
              "      <td>Sob Consulta</td>\n",
              "      <td>n</td>\n",
              "    </tr>\n",
              "    <tr>\n",
              "      <th>2</th>\n",
              "      <td>2</td>\n",
              "      <td>Rua Setúbal</td>\n",
              "      <td>Boa Viagem</td>\n",
              "      <td>86</td>\n",
              "      <td>3</td>\n",
              "      <td>3</td>\n",
              "      <td>2   s</td>\n",
              "      <td>780000</td>\n",
              "      <td>740</td>\n",
              "    </tr>\n",
              "    <tr>\n",
              "      <th>3</th>\n",
              "      <td>3</td>\n",
              "      <td>Rua Quarenta e Oito</td>\n",
              "      <td>Aflitos</td>\n",
              "      <td>69</td>\n",
              "      <td>3</td>\n",
              "      <td>3</td>\n",
              "      <td>1</td>\n",
              "      <td>378000</td>\n",
              "      <td>690</td>\n",
              "    </tr>\n",
              "    <tr>\n",
              "      <th>4</th>\n",
              "      <td>4</td>\n",
              "      <td>Rua Esmeraldino Bandeira</td>\n",
              "      <td>Graças</td>\n",
              "      <td>54</td>\n",
              "      <td>1   Quarto</td>\n",
              "      <td>1   Banheiro</td>\n",
              "      <td>1</td>\n",
              "      <td>240000</td>\n",
              "      <td>590</td>\n",
              "    </tr>\n",
              "  </tbody>\n",
              "</table>\n",
              "</div>\n",
              "      <button class=\"colab-df-convert\" onclick=\"convertToInteractive('df-af657ff5-8802-44c9-ac26-a1a65f7f5dc7')\"\n",
              "              title=\"Convert this dataframe to an interactive table.\"\n",
              "              style=\"display:none;\">\n",
              "        \n",
              "  <svg xmlns=\"http://www.w3.org/2000/svg\" height=\"24px\"viewBox=\"0 0 24 24\"\n",
              "       width=\"24px\">\n",
              "    <path d=\"M0 0h24v24H0V0z\" fill=\"none\"/>\n",
              "    <path d=\"M18.56 5.44l.94 2.06.94-2.06 2.06-.94-2.06-.94-.94-2.06-.94 2.06-2.06.94zm-11 1L8.5 8.5l.94-2.06 2.06-.94-2.06-.94L8.5 2.5l-.94 2.06-2.06.94zm10 10l.94 2.06.94-2.06 2.06-.94-2.06-.94-.94-2.06-.94 2.06-2.06.94z\"/><path d=\"M17.41 7.96l-1.37-1.37c-.4-.4-.92-.59-1.43-.59-.52 0-1.04.2-1.43.59L10.3 9.45l-7.72 7.72c-.78.78-.78 2.05 0 2.83L4 21.41c.39.39.9.59 1.41.59.51 0 1.02-.2 1.41-.59l7.78-7.78 2.81-2.81c.8-.78.8-2.07 0-2.86zM5.41 20L4 18.59l7.72-7.72 1.47 1.35L5.41 20z\"/>\n",
              "  </svg>\n",
              "      </button>\n",
              "      \n",
              "  <style>\n",
              "    .colab-df-container {\n",
              "      display:flex;\n",
              "      flex-wrap:wrap;\n",
              "      gap: 12px;\n",
              "    }\n",
              "\n",
              "    .colab-df-convert {\n",
              "      background-color: #E8F0FE;\n",
              "      border: none;\n",
              "      border-radius: 50%;\n",
              "      cursor: pointer;\n",
              "      display: none;\n",
              "      fill: #1967D2;\n",
              "      height: 32px;\n",
              "      padding: 0 0 0 0;\n",
              "      width: 32px;\n",
              "    }\n",
              "\n",
              "    .colab-df-convert:hover {\n",
              "      background-color: #E2EBFA;\n",
              "      box-shadow: 0px 1px 2px rgba(60, 64, 67, 0.3), 0px 1px 3px 1px rgba(60, 64, 67, 0.15);\n",
              "      fill: #174EA6;\n",
              "    }\n",
              "\n",
              "    [theme=dark] .colab-df-convert {\n",
              "      background-color: #3B4455;\n",
              "      fill: #D2E3FC;\n",
              "    }\n",
              "\n",
              "    [theme=dark] .colab-df-convert:hover {\n",
              "      background-color: #434B5C;\n",
              "      box-shadow: 0px 1px 3px 1px rgba(0, 0, 0, 0.15);\n",
              "      filter: drop-shadow(0px 1px 2px rgba(0, 0, 0, 0.3));\n",
              "      fill: #FFFFFF;\n",
              "    }\n",
              "  </style>\n",
              "\n",
              "      <script>\n",
              "        const buttonEl =\n",
              "          document.querySelector('#df-af657ff5-8802-44c9-ac26-a1a65f7f5dc7 button.colab-df-convert');\n",
              "        buttonEl.style.display =\n",
              "          google.colab.kernel.accessAllowed ? 'block' : 'none';\n",
              "\n",
              "        async function convertToInteractive(key) {\n",
              "          const element = document.querySelector('#df-af657ff5-8802-44c9-ac26-a1a65f7f5dc7');\n",
              "          const dataTable =\n",
              "            await google.colab.kernel.invokeFunction('convertToInteractive',\n",
              "                                                     [key], {});\n",
              "          if (!dataTable) return;\n",
              "\n",
              "          const docLinkHtml = 'Like what you see? Visit the ' +\n",
              "            '<a target=\"_blank\" href=https://colab.research.google.com/notebooks/data_table.ipynb>data table notebook</a>'\n",
              "            + ' to learn more about interactive tables.';\n",
              "          element.innerHTML = '';\n",
              "          dataTable['output_type'] = 'display_data';\n",
              "          await google.colab.output.renderOutput(dataTable, element);\n",
              "          const docLink = document.createElement('div');\n",
              "          docLink.innerHTML = docLinkHtml;\n",
              "          element.appendChild(docLink);\n",
              "        }\n",
              "      </script>\n",
              "    </div>\n",
              "  </div>\n",
              "  "
            ]
          },
          "metadata": {},
          "execution_count": 8
        }
      ]
    },
    {
      "cell_type": "markdown",
      "source": [
        "Dropar coluna `Unnamed: 0` que não faz sentido."
      ],
      "metadata": {
        "id": "LkopJ2c_kATy"
      }
    },
    {
      "cell_type": "code",
      "source": [
        "# Dropar a coluna unnamed\n",
        "df = df.drop(columns='Unnamed: 0')"
      ],
      "metadata": {
        "id": "JVipeUQfjOML"
      },
      "execution_count": 40,
      "outputs": []
    },
    {
      "cell_type": "markdown",
      "source": [
        "É Preciso verificar string presente no campo `valor`:"
      ],
      "metadata": {
        "id": "EVXGB7jLkJVg"
      }
    },
    {
      "cell_type": "code",
      "source": [
        "df['valor'].value_counts()"
      ],
      "metadata": {
        "colab": {
          "base_uri": "https://localhost:8080/"
        },
        "id": "hTz1NoJXkZWZ",
        "outputId": "d6d9975f-8828-4c41-fc55-2609ee6fc86f"
      },
      "execution_count": 32,
      "outputs": [
        {
          "output_type": "execute_result",
          "data": {
            "text/plain": [
              "430000                                 4679\n",
              "450000                                 3065\n",
              "330000                                 2378\n",
              "380000                                 1209\n",
              "310000                                 1189\n",
              "499999                                 1189\n",
              "305000                                 1189\n",
              "1110000                                1189\n",
              "510000                                 1189\n",
              "498000                                 1189\n",
              "167000                                 1189\n",
              "499000                                 1189\n",
              "100000                                 1189\n",
              "535000                                 1189\n",
              "299999      Preço abaixo do mercado    1189\n",
              "378000                                 1189\n",
              "240000                                 1189\n",
              "690000                                 1189\n",
              "320000                                 1189\n",
              "520000                                 1189\n",
              "400000      Preço abaixo do mercado    1189\n",
              "165000                                 1189\n",
              "380000      Preço abaixo do mercado    1189\n",
              "265000                                 1188\n",
              "575000                                 1169\n",
              "780000                                 1169\n",
              "900000                                 1169\n",
              "600000                                  490\n",
              "250000                                   52\n",
              "1050000                                  25\n",
              "350000                                   21\n",
              "490000      Preço abaixo do mercado      20\n",
              "480000                                    7\n",
              "220000                                    1\n",
              "Name: valor, dtype: int64"
            ]
          },
          "metadata": {},
          "execution_count": 32
        }
      ]
    },
    {
      "cell_type": "code",
      "source": [
        "df.loc[df['valor'] == '299999      Preço abaixo do mercado', 'valor'] = 300000"
      ],
      "metadata": {
        "id": "4SmSrK0Ckpfn"
      },
      "execution_count": 33,
      "outputs": []
    },
    {
      "cell_type": "code",
      "source": [
        "df.loc[df['valor'] == '400000      Preço abaixo do mercado', 'valor'] = 400000"
      ],
      "metadata": {
        "id": "6vD5gHdtk13H"
      },
      "execution_count": 34,
      "outputs": []
    },
    {
      "cell_type": "code",
      "source": [
        "df.loc[df['valor'] == '380000      Preço abaixo do mercado', 'valor'] = 380000"
      ],
      "metadata": {
        "id": "tvnrC2TWk8X_"
      },
      "execution_count": 35,
      "outputs": []
    },
    {
      "cell_type": "code",
      "source": [
        "df.loc[df['valor'] == '490000      Preço abaixo do mercado', 'valor'] = 490000"
      ],
      "metadata": {
        "id": "e4v-WwRKlGd4"
      },
      "execution_count": 36,
      "outputs": []
    },
    {
      "cell_type": "code",
      "source": [
        "df = df.drop(df[df['valor'] == 'Sob Consulta'].index) # apagar as linhas que contém valor 'Sob Consulta"
      ],
      "metadata": {
        "id": "oi86cNjuSh0o"
      },
      "execution_count": 9,
      "outputs": []
    },
    {
      "cell_type": "code",
      "source": [
        "df['valor'].value_counts()"
      ],
      "metadata": {
        "colab": {
          "base_uri": "https://localhost:8080/"
        },
        "id": "1JToZwBHlV9v",
        "outputId": "6748e412-ac7c-4a61-e356-81f57df5fd9c"
      },
      "execution_count": 37,
      "outputs": [
        {
          "output_type": "execute_result",
          "data": {
            "text/plain": [
              "430000     4679\n",
              "450000     3065\n",
              "330000     2378\n",
              "380000     1209\n",
              "310000     1189\n",
              "499999     1189\n",
              "305000     1189\n",
              "1110000    1189\n",
              "510000     1189\n",
              "498000     1189\n",
              "167000     1189\n",
              "499000     1189\n",
              "100000     1189\n",
              "535000     1189\n",
              "300000     1189\n",
              "378000     1189\n",
              "240000     1189\n",
              "690000     1189\n",
              "320000     1189\n",
              "520000     1189\n",
              "400000     1189\n",
              "165000     1189\n",
              "380000     1189\n",
              "265000     1188\n",
              "575000     1169\n",
              "780000     1169\n",
              "900000     1169\n",
              "600000      490\n",
              "250000       52\n",
              "1050000      25\n",
              "350000       21\n",
              "490000       20\n",
              "480000        7\n",
              "220000        1\n",
              "Name: valor, dtype: int64"
            ]
          },
          "metadata": {},
          "execution_count": 37
        }
      ]
    },
    {
      "cell_type": "markdown",
      "source": [
        "Vamos verificar os valores do Quartos:"
      ],
      "metadata": {
        "id": "o7r3-EEblfe0"
      }
    },
    {
      "cell_type": "code",
      "source": [
        "df['quartos'].value_counts()"
      ],
      "metadata": {
        "colab": {
          "base_uri": "https://localhost:8080/"
        },
        "id": "nqZ9DDYoWGaK",
        "outputId": "506ed11d-8e4e-4df4-f5b5-24f68f564767"
      },
      "execution_count": 10,
      "outputs": [
        {
          "output_type": "execute_result",
          "data": {
            "text/plain": [
              "2             16606\n",
              "3             15478\n",
              "4              4775\n",
              "1   Quarto     2378\n",
              "Name: quartos, dtype: int64"
            ]
          },
          "metadata": {},
          "execution_count": 10
        }
      ]
    },
    {
      "cell_type": "code",
      "source": [
        "df.loc[df['quartos'] == '1   Quarto', 'quartos'] = 1"
      ],
      "metadata": {
        "id": "pb26SBr6k0ep"
      },
      "execution_count": 11,
      "outputs": []
    },
    {
      "cell_type": "code",
      "source": [
        "df['quartos'].value_counts()"
      ],
      "metadata": {
        "colab": {
          "base_uri": "https://localhost:8080/"
        },
        "id": "V8-EYWhBlBTP",
        "outputId": "eb5d7cc2-42e3-40bc-a5f9-6ff0eda0f022"
      },
      "execution_count": 12,
      "outputs": [
        {
          "output_type": "execute_result",
          "data": {
            "text/plain": [
              "2    16606\n",
              "3    15478\n",
              "4     4775\n",
              "1     2378\n",
              "Name: quartos, dtype: int64"
            ]
          },
          "metadata": {},
          "execution_count": 12
        }
      ]
    },
    {
      "cell_type": "markdown",
      "source": [
        "Vamos verificar os valores de Banheiros:"
      ],
      "metadata": {
        "id": "POPOIKX1lmu5"
      }
    },
    {
      "cell_type": "code",
      "source": [
        "df['banheiros'].value_counts()"
      ],
      "metadata": {
        "colab": {
          "base_uri": "https://localhost:8080/"
        },
        "id": "PGpYfu8Uh9d7",
        "outputId": "33b80f0f-5534-4474-dccf-2278ac31dbff"
      },
      "execution_count": 13,
      "outputs": [
        {
          "output_type": "execute_result",
          "data": {
            "text/plain": [
              "2               19070\n",
              "3               15411\n",
              "1   Banheiro     3567\n",
              "4                1189\n",
              "Name: banheiros, dtype: int64"
            ]
          },
          "metadata": {},
          "execution_count": 13
        }
      ]
    },
    {
      "cell_type": "code",
      "source": [
        "df.loc[df['banheiros'] == '1   Banheiro', 'banheiros'] = 1"
      ],
      "metadata": {
        "id": "BdXDBn6WlEHs"
      },
      "execution_count": 14,
      "outputs": []
    },
    {
      "cell_type": "code",
      "source": [
        "df['banheiros'].value_counts()"
      ],
      "metadata": {
        "colab": {
          "base_uri": "https://localhost:8080/"
        },
        "id": "pJgsCZtElPRB",
        "outputId": "a64584b1-203c-4308-b260-3d4973474eb8"
      },
      "execution_count": 15,
      "outputs": [
        {
          "output_type": "execute_result",
          "data": {
            "text/plain": [
              "2    19070\n",
              "3    15411\n",
              "1     3567\n",
              "4     1189\n",
              "Name: banheiros, dtype: int64"
            ]
          },
          "metadata": {},
          "execution_count": 15
        }
      ]
    },
    {
      "cell_type": "markdown",
      "source": [
        "Verificar os valores de vagas:"
      ],
      "metadata": {
        "id": "RgMUz5P3lxQ_"
      }
    },
    {
      "cell_type": "code",
      "source": [
        "df['vagas'].value_counts()"
      ],
      "metadata": {
        "colab": {
          "base_uri": "https://localhost:8080/"
        },
        "id": "HREY_vmygKzO",
        "outputId": "7dc570d0-3315-4898-ba78-cd295f24ba72"
      },
      "execution_count": 19,
      "outputs": [
        {
          "output_type": "execute_result",
          "data": {
            "text/plain": [
              "1        25699\n",
              "2   s    13534\n",
              "--           4\n",
              "Name: vagas, dtype: int64"
            ]
          },
          "metadata": {},
          "execution_count": 19
        }
      ]
    },
    {
      "cell_type": "code",
      "source": [
        "df.loc[df['vagas'] == '2   s', 'vagas'] = 2"
      ],
      "metadata": {
        "id": "R8nD6QE7ggep"
      },
      "execution_count": 20,
      "outputs": []
    },
    {
      "cell_type": "markdown",
      "source": [
        "Quando a vagas com valor `--` é mais interessante dropar a linha, pois ante os resultados será um outlier."
      ],
      "metadata": {
        "id": "efJnkq5ig6YB"
      }
    },
    {
      "cell_type": "code",
      "source": [
        "df = df.drop(df[df['vagas'] == '--'].index)"
      ],
      "metadata": {
        "id": "PONd-kj8g5SH"
      },
      "execution_count": 21,
      "outputs": []
    },
    {
      "cell_type": "code",
      "source": [
        "df['vagas'].value_counts()"
      ],
      "metadata": {
        "colab": {
          "base_uri": "https://localhost:8080/"
        },
        "id": "-ckXGTgHhkiU",
        "outputId": "53d4e24f-6152-40aa-85cc-7c055f37eabd"
      },
      "execution_count": 25,
      "outputs": [
        {
          "output_type": "execute_result",
          "data": {
            "text/plain": [
              "1    25699\n",
              "2    13534\n",
              "Name: vagas, dtype: int64"
            ]
          },
          "metadata": {},
          "execution_count": 25
        }
      ]
    },
    {
      "cell_type": "markdown",
      "source": [
        "Ainda precisamos verificar os tipos e outras informações necessárias para realizarmos o modelo."
      ],
      "metadata": {
        "id": "hQieodQSli8s"
      }
    },
    {
      "cell_type": "code",
      "source": [
        "df.info()"
      ],
      "metadata": {
        "colab": {
          "base_uri": "https://localhost:8080/"
        },
        "id": "0lWqR3eRlrhY",
        "outputId": "780b1e1a-5565-42cf-ff9d-af77c4b62db3"
      },
      "execution_count": 64,
      "outputs": [
        {
          "output_type": "stream",
          "name": "stdout",
          "text": [
            "<class 'pandas.core.frame.DataFrame'>\n",
            "Int64Index: 39233 entries, 0 to 42803\n",
            "Data columns (total 8 columns):\n",
            " #   Column      Non-Null Count  Dtype \n",
            "---  ------      --------------  ----- \n",
            " 0   endereco    39233 non-null  object\n",
            " 1   bairro      39233 non-null  object\n",
            " 2   area_m2     39233 non-null  int64 \n",
            " 3   quartos     39233 non-null  object\n",
            " 4   banheiros   39233 non-null  object\n",
            " 5   vagas       39233 non-null  object\n",
            " 6   valor       39233 non-null  object\n",
            " 7   condominio  39233 non-null  object\n",
            "dtypes: int64(1), object(7)\n",
            "memory usage: 2.7+ MB\n"
          ]
        }
      ]
    },
    {
      "cell_type": "code",
      "source": [
        "df.endereco = df.endereco.astype(str)"
      ],
      "metadata": {
        "id": "beCl8AJJrLtQ"
      },
      "execution_count": 69,
      "outputs": []
    },
    {
      "cell_type": "code",
      "source": [
        "df.bairro = df.bairro.astype(str)"
      ],
      "metadata": {
        "id": "4-X5whHSr6d7"
      },
      "execution_count": 70,
      "outputs": []
    },
    {
      "cell_type": "code",
      "source": [
        "df.quartos = df.quartos.astype(int)"
      ],
      "metadata": {
        "id": "rr1WOrBIsEqp"
      },
      "execution_count": 71,
      "outputs": []
    },
    {
      "cell_type": "code",
      "source": [
        "df.banheiros = df.banheiros.astype(int)"
      ],
      "metadata": {
        "id": "BfRYMGzesihb"
      },
      "execution_count": 76,
      "outputs": []
    },
    {
      "cell_type": "code",
      "source": [
        "df.vagas = df.vagas.astype(int)"
      ],
      "metadata": {
        "id": "NlWmyK3XsSwl"
      },
      "execution_count": 73,
      "outputs": []
    },
    {
      "cell_type": "code",
      "source": [
        "df.valor  = df.valor.astype(int)"
      ],
      "metadata": {
        "id": "Su2j12EIsShw"
      },
      "execution_count": 74,
      "outputs": []
    },
    {
      "cell_type": "code",
      "source": [
        "print(df.dtypes)"
      ],
      "metadata": {
        "colab": {
          "base_uri": "https://localhost:8080/"
        },
        "id": "lsItycCtruC2",
        "outputId": "7199660b-1f74-4346-db56-15246f843054"
      },
      "execution_count": 77,
      "outputs": [
        {
          "output_type": "stream",
          "name": "stdout",
          "text": [
            "endereco      object\n",
            "bairro        object\n",
            "area_m2        int64\n",
            "quartos        int64\n",
            "banheiros      int64\n",
            "vagas          int64\n",
            "valor          int64\n",
            "condominio    object\n",
            "dtype: object\n"
          ]
        }
      ]
    },
    {
      "cell_type": "code",
      "source": [
        "df"
      ],
      "metadata": {
        "colab": {
          "base_uri": "https://localhost:8080/",
          "height": 424
        },
        "id": "vpZ5UqxisvI2",
        "outputId": "0e966199-d20c-4027-cf12-51d7de9f5c4e"
      },
      "execution_count": 78,
      "outputs": [
        {
          "output_type": "execute_result",
          "data": {
            "text/plain": [
              "                            endereco      bairro  area_m2  quartos  banheiros  \\\n",
              "0               Rua General Polidoro      Várzea       55        2          2   \n",
              "2                        Rua Setúbal  Boa Viagem       86        3          3   \n",
              "3                Rua Quarenta e Oito     Aflitos       69        3          3   \n",
              "4           Rua Esmeraldino Bandeira      Graças       54        1          1   \n",
              "5                  Rua Edson Álvares  Casa Forte       94        2          3   \n",
              "...                              ...         ...      ...      ...        ...   \n",
              "42799  Rua Visconde de Jequitinhonha  Boa Viagem       64        3          2   \n",
              "42800               Rua do Riachuelo   Boa Vista       95        4          3   \n",
              "42801    Rua Jonathas de Vasconcelos  Boa Viagem       55        2          2   \n",
              "42802                Rua Leon Helmer  Boa Viagem       90        3          3   \n",
              "42803               Rua Padre Landim    Madalena      107        4          3   \n",
              "\n",
              "       vagas   valor condominio  \n",
              "0          1  330000        350  \n",
              "2          2  780000        740  \n",
              "3          1  378000        690  \n",
              "4          1  240000        590  \n",
              "5          2  535000        850  \n",
              "...      ...     ...        ...  \n",
              "42799      2  600000          n  \n",
              "42800      1  265000        555  \n",
              "42801      1  305000        600  \n",
              "42802      1  499999        850  \n",
              "42803      1  430000          n  \n",
              "\n",
              "[39233 rows x 8 columns]"
            ],
            "text/html": [
              "\n",
              "  <div id=\"df-2a4e96e3-820f-4dc4-85ba-e53ae6e034df\">\n",
              "    <div class=\"colab-df-container\">\n",
              "      <div>\n",
              "<style scoped>\n",
              "    .dataframe tbody tr th:only-of-type {\n",
              "        vertical-align: middle;\n",
              "    }\n",
              "\n",
              "    .dataframe tbody tr th {\n",
              "        vertical-align: top;\n",
              "    }\n",
              "\n",
              "    .dataframe thead th {\n",
              "        text-align: right;\n",
              "    }\n",
              "</style>\n",
              "<table border=\"1\" class=\"dataframe\">\n",
              "  <thead>\n",
              "    <tr style=\"text-align: right;\">\n",
              "      <th></th>\n",
              "      <th>endereco</th>\n",
              "      <th>bairro</th>\n",
              "      <th>area_m2</th>\n",
              "      <th>quartos</th>\n",
              "      <th>banheiros</th>\n",
              "      <th>vagas</th>\n",
              "      <th>valor</th>\n",
              "      <th>condominio</th>\n",
              "    </tr>\n",
              "  </thead>\n",
              "  <tbody>\n",
              "    <tr>\n",
              "      <th>0</th>\n",
              "      <td>Rua General Polidoro</td>\n",
              "      <td>Várzea</td>\n",
              "      <td>55</td>\n",
              "      <td>2</td>\n",
              "      <td>2</td>\n",
              "      <td>1</td>\n",
              "      <td>330000</td>\n",
              "      <td>350</td>\n",
              "    </tr>\n",
              "    <tr>\n",
              "      <th>2</th>\n",
              "      <td>Rua Setúbal</td>\n",
              "      <td>Boa Viagem</td>\n",
              "      <td>86</td>\n",
              "      <td>3</td>\n",
              "      <td>3</td>\n",
              "      <td>2</td>\n",
              "      <td>780000</td>\n",
              "      <td>740</td>\n",
              "    </tr>\n",
              "    <tr>\n",
              "      <th>3</th>\n",
              "      <td>Rua Quarenta e Oito</td>\n",
              "      <td>Aflitos</td>\n",
              "      <td>69</td>\n",
              "      <td>3</td>\n",
              "      <td>3</td>\n",
              "      <td>1</td>\n",
              "      <td>378000</td>\n",
              "      <td>690</td>\n",
              "    </tr>\n",
              "    <tr>\n",
              "      <th>4</th>\n",
              "      <td>Rua Esmeraldino Bandeira</td>\n",
              "      <td>Graças</td>\n",
              "      <td>54</td>\n",
              "      <td>1</td>\n",
              "      <td>1</td>\n",
              "      <td>1</td>\n",
              "      <td>240000</td>\n",
              "      <td>590</td>\n",
              "    </tr>\n",
              "    <tr>\n",
              "      <th>5</th>\n",
              "      <td>Rua Edson Álvares</td>\n",
              "      <td>Casa Forte</td>\n",
              "      <td>94</td>\n",
              "      <td>2</td>\n",
              "      <td>3</td>\n",
              "      <td>2</td>\n",
              "      <td>535000</td>\n",
              "      <td>850</td>\n",
              "    </tr>\n",
              "    <tr>\n",
              "      <th>...</th>\n",
              "      <td>...</td>\n",
              "      <td>...</td>\n",
              "      <td>...</td>\n",
              "      <td>...</td>\n",
              "      <td>...</td>\n",
              "      <td>...</td>\n",
              "      <td>...</td>\n",
              "      <td>...</td>\n",
              "    </tr>\n",
              "    <tr>\n",
              "      <th>42799</th>\n",
              "      <td>Rua Visconde de Jequitinhonha</td>\n",
              "      <td>Boa Viagem</td>\n",
              "      <td>64</td>\n",
              "      <td>3</td>\n",
              "      <td>2</td>\n",
              "      <td>2</td>\n",
              "      <td>600000</td>\n",
              "      <td>n</td>\n",
              "    </tr>\n",
              "    <tr>\n",
              "      <th>42800</th>\n",
              "      <td>Rua do Riachuelo</td>\n",
              "      <td>Boa Vista</td>\n",
              "      <td>95</td>\n",
              "      <td>4</td>\n",
              "      <td>3</td>\n",
              "      <td>1</td>\n",
              "      <td>265000</td>\n",
              "      <td>555</td>\n",
              "    </tr>\n",
              "    <tr>\n",
              "      <th>42801</th>\n",
              "      <td>Rua Jonathas de Vasconcelos</td>\n",
              "      <td>Boa Viagem</td>\n",
              "      <td>55</td>\n",
              "      <td>2</td>\n",
              "      <td>2</td>\n",
              "      <td>1</td>\n",
              "      <td>305000</td>\n",
              "      <td>600</td>\n",
              "    </tr>\n",
              "    <tr>\n",
              "      <th>42802</th>\n",
              "      <td>Rua Leon Helmer</td>\n",
              "      <td>Boa Viagem</td>\n",
              "      <td>90</td>\n",
              "      <td>3</td>\n",
              "      <td>3</td>\n",
              "      <td>1</td>\n",
              "      <td>499999</td>\n",
              "      <td>850</td>\n",
              "    </tr>\n",
              "    <tr>\n",
              "      <th>42803</th>\n",
              "      <td>Rua Padre Landim</td>\n",
              "      <td>Madalena</td>\n",
              "      <td>107</td>\n",
              "      <td>4</td>\n",
              "      <td>3</td>\n",
              "      <td>1</td>\n",
              "      <td>430000</td>\n",
              "      <td>n</td>\n",
              "    </tr>\n",
              "  </tbody>\n",
              "</table>\n",
              "<p>39233 rows × 8 columns</p>\n",
              "</div>\n",
              "      <button class=\"colab-df-convert\" onclick=\"convertToInteractive('df-2a4e96e3-820f-4dc4-85ba-e53ae6e034df')\"\n",
              "              title=\"Convert this dataframe to an interactive table.\"\n",
              "              style=\"display:none;\">\n",
              "        \n",
              "  <svg xmlns=\"http://www.w3.org/2000/svg\" height=\"24px\"viewBox=\"0 0 24 24\"\n",
              "       width=\"24px\">\n",
              "    <path d=\"M0 0h24v24H0V0z\" fill=\"none\"/>\n",
              "    <path d=\"M18.56 5.44l.94 2.06.94-2.06 2.06-.94-2.06-.94-.94-2.06-.94 2.06-2.06.94zm-11 1L8.5 8.5l.94-2.06 2.06-.94-2.06-.94L8.5 2.5l-.94 2.06-2.06.94zm10 10l.94 2.06.94-2.06 2.06-.94-2.06-.94-.94-2.06-.94 2.06-2.06.94z\"/><path d=\"M17.41 7.96l-1.37-1.37c-.4-.4-.92-.59-1.43-.59-.52 0-1.04.2-1.43.59L10.3 9.45l-7.72 7.72c-.78.78-.78 2.05 0 2.83L4 21.41c.39.39.9.59 1.41.59.51 0 1.02-.2 1.41-.59l7.78-7.78 2.81-2.81c.8-.78.8-2.07 0-2.86zM5.41 20L4 18.59l7.72-7.72 1.47 1.35L5.41 20z\"/>\n",
              "  </svg>\n",
              "      </button>\n",
              "      \n",
              "  <style>\n",
              "    .colab-df-container {\n",
              "      display:flex;\n",
              "      flex-wrap:wrap;\n",
              "      gap: 12px;\n",
              "    }\n",
              "\n",
              "    .colab-df-convert {\n",
              "      background-color: #E8F0FE;\n",
              "      border: none;\n",
              "      border-radius: 50%;\n",
              "      cursor: pointer;\n",
              "      display: none;\n",
              "      fill: #1967D2;\n",
              "      height: 32px;\n",
              "      padding: 0 0 0 0;\n",
              "      width: 32px;\n",
              "    }\n",
              "\n",
              "    .colab-df-convert:hover {\n",
              "      background-color: #E2EBFA;\n",
              "      box-shadow: 0px 1px 2px rgba(60, 64, 67, 0.3), 0px 1px 3px 1px rgba(60, 64, 67, 0.15);\n",
              "      fill: #174EA6;\n",
              "    }\n",
              "\n",
              "    [theme=dark] .colab-df-convert {\n",
              "      background-color: #3B4455;\n",
              "      fill: #D2E3FC;\n",
              "    }\n",
              "\n",
              "    [theme=dark] .colab-df-convert:hover {\n",
              "      background-color: #434B5C;\n",
              "      box-shadow: 0px 1px 3px 1px rgba(0, 0, 0, 0.15);\n",
              "      filter: drop-shadow(0px 1px 2px rgba(0, 0, 0, 0.3));\n",
              "      fill: #FFFFFF;\n",
              "    }\n",
              "  </style>\n",
              "\n",
              "      <script>\n",
              "        const buttonEl =\n",
              "          document.querySelector('#df-2a4e96e3-820f-4dc4-85ba-e53ae6e034df button.colab-df-convert');\n",
              "        buttonEl.style.display =\n",
              "          google.colab.kernel.accessAllowed ? 'block' : 'none';\n",
              "\n",
              "        async function convertToInteractive(key) {\n",
              "          const element = document.querySelector('#df-2a4e96e3-820f-4dc4-85ba-e53ae6e034df');\n",
              "          const dataTable =\n",
              "            await google.colab.kernel.invokeFunction('convertToInteractive',\n",
              "                                                     [key], {});\n",
              "          if (!dataTable) return;\n",
              "\n",
              "          const docLinkHtml = 'Like what you see? Visit the ' +\n",
              "            '<a target=\"_blank\" href=https://colab.research.google.com/notebooks/data_table.ipynb>data table notebook</a>'\n",
              "            + ' to learn more about interactive tables.';\n",
              "          element.innerHTML = '';\n",
              "          dataTable['output_type'] = 'display_data';\n",
              "          await google.colab.output.renderOutput(dataTable, element);\n",
              "          const docLink = document.createElement('div');\n",
              "          docLink.innerHTML = docLinkHtml;\n",
              "          element.appendChild(docLink);\n",
              "        }\n",
              "      </script>\n",
              "    </div>\n",
              "  </div>\n",
              "  "
            ]
          },
          "metadata": {},
          "execution_count": 78
        }
      ]
    },
    {
      "cell_type": "code",
      "source": [
        "df.to_csv('recimovel_db.csv', encoding = 'utf-8')"
      ],
      "metadata": {
        "id": "flpmIo7utcMW"
      },
      "execution_count": 84,
      "outputs": []
    }
  ]
}